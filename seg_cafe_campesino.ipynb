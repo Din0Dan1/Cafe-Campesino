{
 "cells": [
  {
   "cell_type": "code",
   "execution_count": null,
   "id": "initial_id",
   "metadata": {
    "collapsed": true
   },
   "outputs": [],
   "source": "#Predicción de calidad del café"
  },
  {
   "metadata": {},
   "cell_type": "markdown",
   "source": "##Requerimientos",
   "id": "3bb6c4491befc8c8"
  },
  {
   "metadata": {
    "ExecuteTime": {
     "end_time": "2025-07-28T09:56:47.814243Z",
     "start_time": "2025-07-28T09:56:47.737981Z"
    }
   },
   "cell_type": "code",
   "source": [
    "import pandas as pd\n",
    "import numpy as np\n",
    "import matplotlib.pyplot as plt\n",
    "import seaborn as sns\n",
    "import shap\n",
    "from sklearn.linear_model import LinearRegression\n",
    "from sklearn.ensemble import RandomForestRegressor\n",
    "from sklearn.model_selection import train_test_split\n",
    "from openpyxl import load_workbook\n",
    "\n",
    "print(\"¡Herramientas listas!\")"
   ],
   "id": "28c88030cdbbe7aa",
   "outputs": [
    {
     "name": "stdout",
     "output_type": "stream",
     "text": [
      "¡Herramientas listas!\n"
     ]
    }
   ],
   "execution_count": 115
  },
  {
   "metadata": {},
   "cell_type": "markdown",
   "source": "##Carga de datos",
   "id": "abbd452fd5104c93"
  },
  {
   "metadata": {
    "ExecuteTime": {
     "end_time": "2025-07-28T09:56:53.084537Z",
     "start_time": "2025-07-28T09:56:52.299812Z"
    }
   },
   "cell_type": "code",
   "source": [
    "# 📂 Leer rutas desde el archivo de texto\n",
    "with open(\"rutas_archivos.txt\", \"r\", encoding=\"utf-8\") as f:\n",
    "    rutas = [line.strip() for line in f if line.strip()]\n",
    "\n",
    "print(f\"Se encontraron {len(rutas)} archivos:\")\n",
    "for ruta in rutas:\n",
    "    print(\"•\", ruta)"
   ],
   "id": "d51d3b89b39e2d6a",
   "outputs": [
    {
     "name": "stdout",
     "output_type": "stream",
     "text": [
      "Se encontraron 3 archivos:\n",
      "• C:\\Users\\JOSE DANIEL M\\OneDrive\\Documentos\\Universidad\\Aprendizaje Estadístico\\Tarea 1 Aprendizaje Automatico\\CC FT 17   Formato de Control de Calidad Café de Trillado.xlsx\n",
      "• C:\\Users\\JOSE DANIEL M\\OneDrive\\Documentos\\Universidad\\Aprendizaje Estadístico\\Tarea 1 Aprendizaje Automatico\\CC FT 18  Formato de  Tostión.xlsx\n",
      "• C:\\Users\\JOSE DANIEL M\\OneDrive\\Documentos\\Universidad\\Aprendizaje Estadístico\\Tarea 1 Aprendizaje Automatico\\CC FT 21   Formato de Control de Despachos.xlsx\n"
     ]
    }
   ],
   "execution_count": 116
  },
  {
   "metadata": {
    "ExecuteTime": {
     "end_time": "2025-07-28T09:56:56.992978Z",
     "start_time": "2025-07-28T09:56:56.981314Z"
    }
   },
   "cell_type": "code",
   "source": "ruta_trillado, ruta_tostion, ruta_despacho = rutas",
   "id": "4264ee929c6b1a44",
   "outputs": [],
   "execution_count": 117
  },
  {
   "metadata": {
    "ExecuteTime": {
     "end_time": "2025-07-28T09:57:03.160182Z",
     "start_time": "2025-07-28T09:57:00.518149Z"
    }
   },
   "cell_type": "code",
   "source": [
    "# Cargar cada base en su propio DataFrame\n",
    "df_trillado_1 = pd.read_excel(ruta_trillado, engine=\"openpyxl\", skiprows=8, nrows= 76, header=None,sheet_name=\"CONTROL CALIDAD CAFE TRILLADO J\", dtype={0: str} )\n",
    "df_trillado_jerico = pd.read_excel(ruta_trillado, engine=\"openpyxl\", skiprows=8,nrows=32,  header=None, sheet_name=\"Sheet2\", dtype={0: str})\n",
    "df_tostion_1 = pd.read_excel(ruta_tostion, engine=\"openpyxl\", skiprows=6, nrows=499, header=None, sheet_name= \"TOSTIÓN JERICÓ L\", dtype={0: str})\n",
    "df_tostion_jerico= pd.read_excel(ruta_tostion, engine=\"openpyxl\", skiprows=6, nrows=30, header=None, sheet_name= \"TOSTIÓN JERICÓ\", dtype={0: str})\n",
    "df_despacho_medellin = pd.read_excel(ruta_despacho, engine=\"openpyxl\", skiprows=6, nrows=1583, header=0, sheet_name=\"TOSTIÓN MEDELLÍN\", usecols=[0, 1, 2, 3, 4, 6, 9, 10, 11], dtype={1: str, 2:str})\n",
    "df_despacho_jerico = pd.read_excel(ruta_despacho, engine=\"openpyxl\", skiprows=6, nrows=27, header=0, sheet_name=\"TOSTIÓN JERICÓ\", usecols=[0, 1, 2, 3, 4, 6, 9, 10, 11], dtype={1: str, 2:str})\n",
    "df_lotes = pd.read_excel(ruta_trillado, engine=\"openpyxl\", skiprows=0, header=0, sheet_name=\"LOTES\", usecols=[0, 1])\n",
    "\n",
    "#Etiquetado de columnas manual de Trillado\n",
    "columnas_trillado = [\n",
    "    \"FECHA\",\n",
    "    \"LOTE\",\n",
    "    \"MARCA\",\n",
    "    \"CANTIDAD\",\n",
    "    \"HUMEDAD_%\",\n",
    "    \"HUMEDAD_C/NC\",\n",
    "    \"MALLAS_#\",\n",
    "    \"MALLAS_C/NC\",\n",
    "    \"VERIFICACION_FISICA\",\n",
    "    \"NOTAS_CATACION\",\n",
    "    \"PUNTAJE_#\",\n",
    "    \"PUNTAJE_C/NC\",\n",
    "    \"LIBERACION_LOTE\",\n",
    "    \"RESPONSABLE\"\n",
    "]\n",
    "columnas_tostion = [\n",
    "    \"FECHA\",\n",
    "    \"LOTE\",\n",
    "    \"ORIGEN\",\n",
    "    \"VARIEDAD\",\n",
    "    \"PROCESO\",\n",
    "    \"BENEFICIO\",\n",
    "    \"PESO_VERDE\",\n",
    "    \"MERMA\",\n",
    "    \"PESO_TOSTADO\",\n",
    "    \"PERFIL\",\n",
    "    \"TEMPER_INICIO-FINAL\",\n",
    "    \"TIEMPO_TUESTE\",\n",
    "    \"OBSERVACIONES\",\n",
    "    \"RESPONSABLE\"\n",
    "]\n",
    "columnas_despacho = [\n",
    "    \"PEDIDO\",\n",
    "    \"FECHA_TUESTE\",\n",
    "    \"FECHA_EMPAQUE\",\n",
    "    \"MARCA\",\n",
    "    \"PRESENTACION\",\n",
    "    \"CANTIDAD\",\n",
    "    \"CLIENTE\",\n",
    "    \"RESPONSABLE\",\n",
    "    \"VERIFICA\"\n",
    "]\n",
    "columnas_lotes = [\n",
    "    \"ID\",\n",
    "    \"MARCA\"\n",
    "]\n",
    "df_trillado_1.columns = columnas_trillado\n",
    "df_trillado_jerico.columns = columnas_trillado\n",
    "df_tostion_1.columns = columnas_tostion\n",
    "df_tostion_jerico.columns = columnas_tostion\n",
    "df_despacho_medellin.columns = columnas_despacho\n",
    "df_despacho_jerico.columns = columnas_despacho\n",
    "df_lotes.columns = columnas_lotes\n",
    "print(\"Archivos cargados correctamente.\")"
   ],
   "id": "5dbdf1c14cc164c5",
   "outputs": [
    {
     "name": "stdout",
     "output_type": "stream",
     "text": [
      "Archivos cargados correctamente.\n"
     ]
    }
   ],
   "execution_count": 118
  },
  {
   "metadata": {},
   "cell_type": "markdown",
   "source": "Haremos join de las bases de datos tal que quede solo una de trillado, una de tostión y una de despacho.",
   "id": "2d48fd48608a0e13"
  },
  {
   "metadata": {
    "ExecuteTime": {
     "end_time": "2025-07-28T09:57:07.635419Z",
     "start_time": "2025-07-28T09:57:07.600938Z"
    }
   },
   "cell_type": "code",
   "source": [
    "# Mantengamos un atributo de la sede solo por orden\n",
    "df_trillado_1['SEDE'] = 'medellin'\n",
    "df_trillado_jerico['SEDE'] = 'jerico'\n",
    "# y luego les hacemos join\n",
    "df_trillado = pd.concat([df_trillado_1, df_trillado_jerico], ignore_index=True)\n",
    "\n",
    "df_tostion_1['SEDE'] = 'medellin'\n",
    "df_tostion_jerico['SEDE'] = 'jerico'\n",
    "df_tostion = pd.concat([df_tostion_1, df_tostion_jerico], ignore_index=True)\n",
    "\n",
    "df_despacho_medellin['SEDE'] = 'medellin'\n",
    "df_despacho_jerico['SEDE'] = 'jerico'\n",
    "df_despacho = pd.concat([df_despacho_medellin, df_despacho_jerico], ignore_index=True)  \n",
    "print(\"Bases de trillado, tostión y despacho unidas correctamente.\")"
   ],
   "id": "6639eedcabd24fd3",
   "outputs": [
    {
     "name": "stdout",
     "output_type": "stream",
     "text": [
      "Bases de trillado, tostión y despacho unidas correctamente.\n"
     ]
    }
   ],
   "execution_count": 119
  },
  {
   "metadata": {
    "ExecuteTime": {
     "end_time": "2025-07-26T01:07:34.565298Z",
     "start_time": "2025-07-26T01:07:34.556713Z"
    }
   },
   "cell_type": "code",
   "source": [
    "#Eliminamos los dataframes que ya no necesitamos\n",
    "del df_trillado_1, df_trillado_jerico, df_tostion_1, df_tostion_jerico, df_despacho_medellin, df_despacho_jerico"
   ],
   "id": "d2bf083e42851810",
   "outputs": [],
   "execution_count": 81
  },
  {
   "metadata": {
    "ExecuteTime": {
     "end_time": "2025-07-28T09:57:16.423673Z",
     "start_time": "2025-07-28T09:57:16.388018Z"
    }
   },
   "cell_type": "code",
   "source": "df_trillado",
   "id": "7a49dad3e2a16efb",
   "outputs": [
    {
     "data": {
      "text/plain": [
       "                   FECHA         LOTE          MARCA  CANTIDAD HUMEDAD_%  \\\n",
       "0               19-07-22    01-190722   Madre Laura     765.00      10.9   \n",
       "1                19-7-22    09-190722  Tabi Natural     204.00      10.2   \n",
       "2               19-07-22    10-190722     Don Mario     165.00      10.7   \n",
       "3               27-07-22  07-19-07-22     Don Felix       0.45      10.5   \n",
       "4               31-10-22    01-291022   Madre Laura     105.00      10.7   \n",
       "..                   ...          ...            ...       ...       ...   \n",
       "103  2023-10-27 00:00:00    01-271023   Madre Laura      20.00      10.5   \n",
       "104          10-Ene-2024    01-100124   Madre Laura      20.00      10.4   \n",
       "105        02-Abril-2024    01-020424   Madre Laura      20.00      10.5   \n",
       "106  2024-06-20 00:00:00    01-200624   Madre Laura      14.00      10.8   \n",
       "107  2024-07-18 00:00:00    01-180724   Madre Laura      20.00      10.2   \n",
       "\n",
       "    HUMEDAD_C/NC  MALLAS_# MALLAS_C/NC VERIFICACION_FISICA  \\\n",
       "0             C         14          C                    C   \n",
       "1              C        14           C                   C   \n",
       "2              C        14           C                   C   \n",
       "3              C        14           C                   C   \n",
       "4              C        14           C                   C   \n",
       "..           ...       ...         ...                 ...   \n",
       "103            C        14           C                   C   \n",
       "104            c        14           c                   c   \n",
       "105            C        14           C                   C   \n",
       "106            C        14           C                   C   \n",
       "107            C        14           C                   C   \n",
       "\n",
       "                                        NOTAS_CATACION PUNTAJE_# PUNTAJE_C/NC  \\\n",
       "0    Chocolate negro, toque frutal, cuerpo medio, a...        84           C    \n",
       "1    Frutas maduras, nibs de cacao, acidez brillant...        85            C   \n",
       "2    Panela, durazno, miel, acidez brillante citric...      84.5            C   \n",
       "3    Moras maduras, chocolate negro, acidez media c...      84.5            C   \n",
       "4    Chocolate negro, toque frutal, cuerpo medio, a...        84           C    \n",
       "..                                                 ...       ...          ...   \n",
       "103  Chocolate negro, toque frutal, cuerpo medio, a...      84.0            C   \n",
       "104  Chocolate negro, toque frutal, cuerpo medio, a...      84.0            C   \n",
       "105  Chocolate negro, toque frutal, cuerpo medio, a...      84.0            C   \n",
       "106  Chocolate negro, toque frutal, cuerpo medio, a...      84.0            C   \n",
       "107  Chocolate negro, toque frutal, cuerpo medio, a...      84.0            C   \n",
       "\n",
       "    LIBERACION_LOTE RESPONSABLE      SEDE  \n",
       "0               Si          LFQ  medellin  \n",
       "1               Si         LFQ   medellin  \n",
       "2               Si         LFQ   medellin  \n",
       "3               Si          LFQ  medellin  \n",
       "4               Si          LFQ  medellin  \n",
       "..              ...         ...       ...  \n",
       "103              SI          AC    jerico  \n",
       "104              SI          AC    jerico  \n",
       "105              SI          AC    jerico  \n",
       "106              SI          AC    jerico  \n",
       "107              SI          Ac    jerico  \n",
       "\n",
       "[108 rows x 15 columns]"
      ],
      "text/html": [
       "<div>\n",
       "<style scoped>\n",
       "    .dataframe tbody tr th:only-of-type {\n",
       "        vertical-align: middle;\n",
       "    }\n",
       "\n",
       "    .dataframe tbody tr th {\n",
       "        vertical-align: top;\n",
       "    }\n",
       "\n",
       "    .dataframe thead th {\n",
       "        text-align: right;\n",
       "    }\n",
       "</style>\n",
       "<table border=\"1\" class=\"dataframe\">\n",
       "  <thead>\n",
       "    <tr style=\"text-align: right;\">\n",
       "      <th></th>\n",
       "      <th>FECHA</th>\n",
       "      <th>LOTE</th>\n",
       "      <th>MARCA</th>\n",
       "      <th>CANTIDAD</th>\n",
       "      <th>HUMEDAD_%</th>\n",
       "      <th>HUMEDAD_C/NC</th>\n",
       "      <th>MALLAS_#</th>\n",
       "      <th>MALLAS_C/NC</th>\n",
       "      <th>VERIFICACION_FISICA</th>\n",
       "      <th>NOTAS_CATACION</th>\n",
       "      <th>PUNTAJE_#</th>\n",
       "      <th>PUNTAJE_C/NC</th>\n",
       "      <th>LIBERACION_LOTE</th>\n",
       "      <th>RESPONSABLE</th>\n",
       "      <th>SEDE</th>\n",
       "    </tr>\n",
       "  </thead>\n",
       "  <tbody>\n",
       "    <tr>\n",
       "      <th>0</th>\n",
       "      <td>19-07-22</td>\n",
       "      <td>01-190722</td>\n",
       "      <td>Madre Laura</td>\n",
       "      <td>765.00</td>\n",
       "      <td>10.9</td>\n",
       "      <td>C</td>\n",
       "      <td>14</td>\n",
       "      <td>C</td>\n",
       "      <td>C</td>\n",
       "      <td>Chocolate negro, toque frutal, cuerpo medio, a...</td>\n",
       "      <td>84</td>\n",
       "      <td>C</td>\n",
       "      <td>Si</td>\n",
       "      <td>LFQ</td>\n",
       "      <td>medellin</td>\n",
       "    </tr>\n",
       "    <tr>\n",
       "      <th>1</th>\n",
       "      <td>19-7-22</td>\n",
       "      <td>09-190722</td>\n",
       "      <td>Tabi Natural</td>\n",
       "      <td>204.00</td>\n",
       "      <td>10.2</td>\n",
       "      <td>C</td>\n",
       "      <td>14</td>\n",
       "      <td>C</td>\n",
       "      <td>C</td>\n",
       "      <td>Frutas maduras, nibs de cacao, acidez brillant...</td>\n",
       "      <td>85</td>\n",
       "      <td>C</td>\n",
       "      <td>Si</td>\n",
       "      <td>LFQ</td>\n",
       "      <td>medellin</td>\n",
       "    </tr>\n",
       "    <tr>\n",
       "      <th>2</th>\n",
       "      <td>19-07-22</td>\n",
       "      <td>10-190722</td>\n",
       "      <td>Don Mario</td>\n",
       "      <td>165.00</td>\n",
       "      <td>10.7</td>\n",
       "      <td>C</td>\n",
       "      <td>14</td>\n",
       "      <td>C</td>\n",
       "      <td>C</td>\n",
       "      <td>Panela, durazno, miel, acidez brillante citric...</td>\n",
       "      <td>84.5</td>\n",
       "      <td>C</td>\n",
       "      <td>Si</td>\n",
       "      <td>LFQ</td>\n",
       "      <td>medellin</td>\n",
       "    </tr>\n",
       "    <tr>\n",
       "      <th>3</th>\n",
       "      <td>27-07-22</td>\n",
       "      <td>07-19-07-22</td>\n",
       "      <td>Don Felix</td>\n",
       "      <td>0.45</td>\n",
       "      <td>10.5</td>\n",
       "      <td>C</td>\n",
       "      <td>14</td>\n",
       "      <td>C</td>\n",
       "      <td>C</td>\n",
       "      <td>Moras maduras, chocolate negro, acidez media c...</td>\n",
       "      <td>84.5</td>\n",
       "      <td>C</td>\n",
       "      <td>Si</td>\n",
       "      <td>LFQ</td>\n",
       "      <td>medellin</td>\n",
       "    </tr>\n",
       "    <tr>\n",
       "      <th>4</th>\n",
       "      <td>31-10-22</td>\n",
       "      <td>01-291022</td>\n",
       "      <td>Madre Laura</td>\n",
       "      <td>105.00</td>\n",
       "      <td>10.7</td>\n",
       "      <td>C</td>\n",
       "      <td>14</td>\n",
       "      <td>C</td>\n",
       "      <td>C</td>\n",
       "      <td>Chocolate negro, toque frutal, cuerpo medio, a...</td>\n",
       "      <td>84</td>\n",
       "      <td>C</td>\n",
       "      <td>Si</td>\n",
       "      <td>LFQ</td>\n",
       "      <td>medellin</td>\n",
       "    </tr>\n",
       "    <tr>\n",
       "      <th>...</th>\n",
       "      <td>...</td>\n",
       "      <td>...</td>\n",
       "      <td>...</td>\n",
       "      <td>...</td>\n",
       "      <td>...</td>\n",
       "      <td>...</td>\n",
       "      <td>...</td>\n",
       "      <td>...</td>\n",
       "      <td>...</td>\n",
       "      <td>...</td>\n",
       "      <td>...</td>\n",
       "      <td>...</td>\n",
       "      <td>...</td>\n",
       "      <td>...</td>\n",
       "      <td>...</td>\n",
       "    </tr>\n",
       "    <tr>\n",
       "      <th>103</th>\n",
       "      <td>2023-10-27 00:00:00</td>\n",
       "      <td>01-271023</td>\n",
       "      <td>Madre Laura</td>\n",
       "      <td>20.00</td>\n",
       "      <td>10.5</td>\n",
       "      <td>C</td>\n",
       "      <td>14</td>\n",
       "      <td>C</td>\n",
       "      <td>C</td>\n",
       "      <td>Chocolate negro, toque frutal, cuerpo medio, a...</td>\n",
       "      <td>84.0</td>\n",
       "      <td>C</td>\n",
       "      <td>SI</td>\n",
       "      <td>AC</td>\n",
       "      <td>jerico</td>\n",
       "    </tr>\n",
       "    <tr>\n",
       "      <th>104</th>\n",
       "      <td>10-Ene-2024</td>\n",
       "      <td>01-100124</td>\n",
       "      <td>Madre Laura</td>\n",
       "      <td>20.00</td>\n",
       "      <td>10.4</td>\n",
       "      <td>c</td>\n",
       "      <td>14</td>\n",
       "      <td>c</td>\n",
       "      <td>c</td>\n",
       "      <td>Chocolate negro, toque frutal, cuerpo medio, a...</td>\n",
       "      <td>84.0</td>\n",
       "      <td>C</td>\n",
       "      <td>SI</td>\n",
       "      <td>AC</td>\n",
       "      <td>jerico</td>\n",
       "    </tr>\n",
       "    <tr>\n",
       "      <th>105</th>\n",
       "      <td>02-Abril-2024</td>\n",
       "      <td>01-020424</td>\n",
       "      <td>Madre Laura</td>\n",
       "      <td>20.00</td>\n",
       "      <td>10.5</td>\n",
       "      <td>C</td>\n",
       "      <td>14</td>\n",
       "      <td>C</td>\n",
       "      <td>C</td>\n",
       "      <td>Chocolate negro, toque frutal, cuerpo medio, a...</td>\n",
       "      <td>84.0</td>\n",
       "      <td>C</td>\n",
       "      <td>SI</td>\n",
       "      <td>AC</td>\n",
       "      <td>jerico</td>\n",
       "    </tr>\n",
       "    <tr>\n",
       "      <th>106</th>\n",
       "      <td>2024-06-20 00:00:00</td>\n",
       "      <td>01-200624</td>\n",
       "      <td>Madre Laura</td>\n",
       "      <td>14.00</td>\n",
       "      <td>10.8</td>\n",
       "      <td>C</td>\n",
       "      <td>14</td>\n",
       "      <td>C</td>\n",
       "      <td>C</td>\n",
       "      <td>Chocolate negro, toque frutal, cuerpo medio, a...</td>\n",
       "      <td>84.0</td>\n",
       "      <td>C</td>\n",
       "      <td>SI</td>\n",
       "      <td>AC</td>\n",
       "      <td>jerico</td>\n",
       "    </tr>\n",
       "    <tr>\n",
       "      <th>107</th>\n",
       "      <td>2024-07-18 00:00:00</td>\n",
       "      <td>01-180724</td>\n",
       "      <td>Madre Laura</td>\n",
       "      <td>20.00</td>\n",
       "      <td>10.2</td>\n",
       "      <td>C</td>\n",
       "      <td>14</td>\n",
       "      <td>C</td>\n",
       "      <td>C</td>\n",
       "      <td>Chocolate negro, toque frutal, cuerpo medio, a...</td>\n",
       "      <td>84.0</td>\n",
       "      <td>C</td>\n",
       "      <td>SI</td>\n",
       "      <td>Ac</td>\n",
       "      <td>jerico</td>\n",
       "    </tr>\n",
       "  </tbody>\n",
       "</table>\n",
       "<p>108 rows × 15 columns</p>\n",
       "</div>"
      ]
     },
     "execution_count": 120,
     "metadata": {},
     "output_type": "execute_result"
    }
   ],
   "execution_count": 120
  },
  {
   "metadata": {
    "ExecuteTime": {
     "end_time": "2025-07-28T09:57:29.087242Z",
     "start_time": "2025-07-28T09:57:29.072455Z"
    }
   },
   "cell_type": "code",
   "source": "df_trillado.iloc[:, 0].apply(type).value_counts()",
   "id": "25443c4f3706dd8f",
   "outputs": [
    {
     "data": {
      "text/plain": [
       "FECHA\n",
       "<class 'str'>    108\n",
       "Name: count, dtype: int64"
      ]
     },
     "execution_count": 121,
     "metadata": {},
     "output_type": "execute_result"
    }
   ],
   "execution_count": 121
  },
  {
   "metadata": {},
   "cell_type": "markdown",
   "source": "Hagamos el ejercicio de ver de qué tipos está recibiendo los dataframes la información",
   "id": "d30fa22a671cdd57"
  },
  {
   "metadata": {
    "ExecuteTime": {
     "end_time": "2025-07-28T09:57:38.634271Z",
     "start_time": "2025-07-28T09:57:38.619415Z"
    }
   },
   "cell_type": "code",
   "source": [
    "def clasificar_variables(df):\n",
    "    resumen = {}\n",
    "\n",
    "    for col in df.columns:\n",
    "        tipo = df[col].dtype\n",
    "\n",
    "        if pd.api.types.is_numeric_dtype(df[col]):\n",
    "            resumen[col] = 'numérica'\n",
    "        elif pd.api.types.is_bool_dtype(df[col]):\n",
    "            resumen[col] = 'booleana'\n",
    "        elif isinstance(tipo, pd.CategoricalDtype):\n",
    "            resumen[col] = 'categórica'\n",
    "        elif df[col].apply(type).eq(str).all():\n",
    "            resumen[col] = 'string (pura)'\n",
    "        elif pd.api.types.is_string_dtype(df[col]):\n",
    "            resumen[col] = 'string (nativa)'\n",
    "        elif pd.api.types.is_datetime64_any_dtype(df[col]):\n",
    "            resumen[col] = 'fecha'\n",
    "        else:\n",
    "            resumen[col] = 'otros'\n",
    "\n",
    "    return pd.Series(resumen, name='tipo_variable')\n"
   ],
   "id": "256e3194311e23e",
   "outputs": [],
   "execution_count": 122
  },
  {
   "metadata": {
    "ExecuteTime": {
     "end_time": "2025-07-28T09:57:42.029965Z",
     "start_time": "2025-07-28T09:57:42.013686Z"
    }
   },
   "cell_type": "code",
   "source": "clasificar_variables(df_tostion)",
   "id": "1399a9c783a6c09d",
   "outputs": [
    {
     "data": {
      "text/plain": [
       "FECHA                  string (pura)\n",
       "LOTE                   string (pura)\n",
       "ORIGEN                 string (pura)\n",
       "VARIEDAD               string (pura)\n",
       "PROCESO                string (pura)\n",
       "BENEFICIO              string (pura)\n",
       "PESO_VERDE                  numérica\n",
       "MERMA                       numérica\n",
       "PESO_TOSTADO                numérica\n",
       "PERFIL                 string (pura)\n",
       "TEMPER_INICIO-FINAL    string (pura)\n",
       "TIEMPO_TUESTE                  otros\n",
       "OBSERVACIONES                  otros\n",
       "RESPONSABLE            string (pura)\n",
       "SEDE                   string (pura)\n",
       "Name: tipo_variable, dtype: object"
      ]
     },
     "execution_count": 123,
     "metadata": {},
     "output_type": "execute_result"
    }
   ],
   "execution_count": 123
  },
  {
   "metadata": {
    "ExecuteTime": {
     "end_time": "2025-07-28T09:57:44.448663Z",
     "start_time": "2025-07-28T09:57:44.433545Z"
    }
   },
   "cell_type": "code",
   "source": "clasificar_variables(df_trillado)",
   "id": "8c2967a9acb65299",
   "outputs": [
    {
     "data": {
      "text/plain": [
       "FECHA                  string (pura)\n",
       "LOTE                   string (pura)\n",
       "MARCA                  string (pura)\n",
       "CANTIDAD                    numérica\n",
       "HUMEDAD_%                      otros\n",
       "HUMEDAD_C/NC           string (pura)\n",
       "MALLAS_#                    numérica\n",
       "MALLAS_C/NC            string (pura)\n",
       "VERIFICACION_FISICA    string (pura)\n",
       "NOTAS_CATACION                 otros\n",
       "PUNTAJE_#                      otros\n",
       "PUNTAJE_C/NC                   otros\n",
       "LIBERACION_LOTE                otros\n",
       "RESPONSABLE                    otros\n",
       "SEDE                   string (pura)\n",
       "Name: tipo_variable, dtype: object"
      ]
     },
     "execution_count": 124,
     "metadata": {},
     "output_type": "execute_result"
    }
   ],
   "execution_count": 124
  },
  {
   "metadata": {
    "ExecuteTime": {
     "end_time": "2025-07-28T09:57:47.772506Z",
     "start_time": "2025-07-28T09:57:47.753366Z"
    }
   },
   "cell_type": "code",
   "source": "clasificar_variables(df_despacho)",
   "id": "583b3e9cecfab4f2",
   "outputs": [
    {
     "data": {
      "text/plain": [
       "PEDIDO                   otros\n",
       "FECHA_TUESTE     string (pura)\n",
       "FECHA_EMPAQUE    string (pura)\n",
       "MARCA            string (pura)\n",
       "PRESENTACION     string (pura)\n",
       "CANTIDAD              numérica\n",
       "CLIENTE          string (pura)\n",
       "RESPONSABLE      string (pura)\n",
       "VERIFICA         string (pura)\n",
       "SEDE             string (pura)\n",
       "Name: tipo_variable, dtype: object"
      ]
     },
     "execution_count": 125,
     "metadata": {},
     "output_type": "execute_result"
    }
   ],
   "execution_count": 125
  },
  {
   "metadata": {},
   "cell_type": "markdown",
   "source": "Vamos primero con recibir todas las fechas como datetime",
   "id": "fb11cd74ee8a9194"
  },
  {
   "metadata": {
    "ExecuteTime": {
     "end_time": "2025-07-28T09:57:50.892917Z",
     "start_time": "2025-07-28T09:57:50.855779Z"
    }
   },
   "cell_type": "code",
   "source": [
    "# Cambiar a mano los registros más problemáticos\n",
    "df_trillado.iloc[104, 0] = \"10-01-2024\"\n",
    "df_trillado.iloc[105, 0] = \"02-04-2024\""
   ],
   "id": "4b9666b299b83870",
   "outputs": [],
   "execution_count": 126
  },
  {
   "metadata": {
    "ExecuteTime": {
     "end_time": "2025-07-28T09:57:54.789092Z",
     "start_time": "2025-07-28T09:57:54.377668Z"
    }
   },
   "cell_type": "code",
   "source": [
    "df_trillado['FECHA'] = pd.to_datetime(df_trillado['FECHA'], format='mixed', dayfirst=True, errors='coerce')\n",
    "df_tostion['FECHA'] = pd.to_datetime(df_tostion['FECHA'], format='mixed', dayfirst=True, errors='coerce')\n",
    "df_despacho['FECHA_TUESTE'] = pd.to_datetime(df_despacho['FECHA_TUESTE'], format='mixed', dayfirst=True, errors='coerce')\n",
    "df_despacho['FECHA_EMPAQUE'] = pd.to_datetime(df_despacho['FECHA_EMPAQUE'], format='mixed', dayfirst=True, errors='coerce')"
   ],
   "id": "338fdf90a9c43ca6",
   "outputs": [],
   "execution_count": 127
  },
  {
   "metadata": {},
   "cell_type": "markdown",
   "source": [
    "Ahora separemos en varias columnas las variables que llevan más de un dato en cada una, o llevan unidades. Ellas son: TIEMPO_TUESTE que lleva el tiempo en minutos pero en el formato \"minutos:segundos\",\n",
    "TEMPER_INICIO-FINAL que lleva dos temperaturas,PRESENTACION que va acompañado de las unidades y LOTE en la tabla de Trillado que es N° tipo de café + fecha de trilla(Día, mes y año). Este tercero es más complejo, habrán más detalles en el código específico."
   ],
   "id": "2967076dbf78a2de"
  },
  {
   "metadata": {
    "ExecuteTime": {
     "end_time": "2025-07-28T09:57:59.798810Z",
     "start_time": "2025-07-28T09:57:59.643331Z"
    }
   },
   "cell_type": "code",
   "source": [
    "# Función para convertir el tiempo en formato \"minutos:segundos\" a segundos\n",
    "def convertir_tiempo_a_segundos(serie):\n",
    "    \"\"\"\n",
    "    Convierte una serie de strings como '5:30', '10:15', etc.\n",
    "    en su valor numérico en segundos como entero.\n",
    "    \"\"\"\n",
    "    def convertir(valor):\n",
    "        try:\n",
    "            if pd.isna(valor):\n",
    "                return None\n",
    "            partes = str(valor).strip().split(':')\n",
    "            minutos = int(partes[0])\n",
    "            segundos = int(partes[1]) if len(partes) > 1 else 0\n",
    "            return minutos * 60 + segundos\n",
    "        except:\n",
    "            return None\n",
    "\n",
    "    return serie.apply(convertir)"
   ],
   "id": "33c738f5804e486d",
   "outputs": [],
   "execution_count": 128
  },
  {
   "metadata": {
    "ExecuteTime": {
     "end_time": "2025-07-28T09:58:03.499030Z",
     "start_time": "2025-07-28T09:58:03.476029Z"
    }
   },
   "cell_type": "code",
   "source": [
    "# Aplicar la conversión a la columna TIEMPO_TUESTE\n",
    "df_tostion['TIEMPO_TUESTE'] = convertir_tiempo_a_segundos(df_tostion['TIEMPO_TUESTE'])"
   ],
   "id": "4893daa3bc1b014b",
   "outputs": [],
   "execution_count": 129
  },
  {
   "metadata": {
    "ExecuteTime": {
     "end_time": "2025-07-28T09:58:11.423028Z",
     "start_time": "2025-07-28T09:58:11.406167Z"
    }
   },
   "cell_type": "code",
   "source": [
    "# Función para normalizar a gramos en PRESENTACION\n",
    "def normalizar_presentacion_a_gramos(serie):\n",
    "    \"\"\"\n",
    "    Convierte una serie de strings como '250 Gr', '0.5 KG', '20kg', etc.\n",
    "    en su valor numérico en gramos como entero.\n",
    "    \"\"\"\n",
    "    def convertir(valor):\n",
    "        try:\n",
    "            val = str(valor).strip().lower()\n",
    "            if 'kg' in val:\n",
    "                num = float(val.split()[0].replace('kg', '').strip())\n",
    "                return int(num * 1000)\n",
    "            elif 'gr' in val:\n",
    "                num = float(val.split()[0].replace('gr', '').strip())\n",
    "                return int(num)\n",
    "            else:\n",
    "                num = float(val.split()[0])\n",
    "                return int(num)\n",
    "        except:\n",
    "            return None  \n",
    "\n",
    "    return serie.apply(convertir)"
   ],
   "id": "5d12fb78dc1ad77a",
   "outputs": [],
   "execution_count": 130
  },
  {
   "metadata": {
    "ExecuteTime": {
     "end_time": "2025-07-28T09:58:16.353671Z",
     "start_time": "2025-07-28T09:58:16.340631Z"
    }
   },
   "cell_type": "code",
   "source": [
    "# Aplicar la normalización a la columna PRESENTACION\n",
    "df_despacho['PRESENTACION'] = normalizar_presentacion_a_gramos(df_despacho['PRESENTACION'])"
   ],
   "id": "e8bf7fbff6c76e66",
   "outputs": [],
   "execution_count": 131
  },
  {
   "metadata": {
    "ExecuteTime": {
     "end_time": "2025-07-28T09:58:20.087692Z",
     "start_time": "2025-07-28T09:58:19.861795Z"
    }
   },
   "cell_type": "code",
   "source": [
    "#Separar la columna TEMPER_INICIO-FINAL en dos columnas TEM_INICIO y TEM_FINAL\n",
    "df_tostion[['TEM_INICIO', 'TEM_FINAL']] = df_tostion['TEMPER_INICIO-FINAL'].str.replace('°', '', regex=False).str.split('/', expand=True)"
   ],
   "id": "e068dde85627f8f6",
   "outputs": [],
   "execution_count": 132
  },
  {
   "metadata": {},
   "cell_type": "markdown",
   "source": "El problema de la columna LOTE. Esta columna tiene se crea al unir el id de la marca con la fecha de trillado en ddmmaa. Pero resulta muy útil porque la columna de MARCA tiene varias insconsistencias con nombres distintos para una misma marca. Por tanto se desprenderá de la información de la columna MARCA y se reemplazará con lo que dice en la columna de LOTE.",
   "id": "bb5cafeea6eaaad4"
  },
  {
   "metadata": {
    "ExecuteTime": {
     "end_time": "2025-07-28T09:58:23.704100Z",
     "start_time": "2025-07-28T09:58:23.576195Z"
    }
   },
   "cell_type": "code",
   "source": [
    "mapa_marcas = df_lotes.set_index('ID')['MARCA'].to_dict()\n",
    "\n",
    "# Crea la nueva marca solo si hay LOTE\n",
    "nueva_marca = (\n",
    "    df_trillado['LOTE']\n",
    "    .astype(str)\n",
    "    .where(df_trillado['LOTE'].notna())        # solo si no es NaN\n",
    "    .str.split('-').str[0]\n",
    "    .dropna()\n",
    "    .astype(int)\n",
    "    .map(mapa_marcas)\n",
    ")\n",
    "\n",
    "# Reemplaza MARCA solo donde el LOTE no es NaN\n",
    "df_trillado['MARCA'] = df_trillado['LOTE'].notna().map(lambda x: True if x else False) * nueva_marca.combine_first(df_trillado['MARCA'])"
   ],
   "id": "d99eac78a119c343",
   "outputs": [],
   "execution_count": 133
  },
  {
   "metadata": {
    "ExecuteTime": {
     "end_time": "2025-07-28T09:58:28.058363Z",
     "start_time": "2025-07-28T09:58:28.029079Z"
    }
   },
   "cell_type": "code",
   "source": [
    "def extraer_marca_desde_lote(lote):\n",
    "    try:\n",
    "        if pd.notna(lote):\n",
    "            id_marca = int(str(lote).split('-')[0])\n",
    "            return mapa_marcas.get(id_marca, None)\n",
    "    except:\n",
    "        return None\n",
    "\n",
    "df_tostion['MARCA'] = df_tostion['LOTE'].apply(extraer_marca_desde_lote)"
   ],
   "id": "d995fb5344fef038",
   "outputs": [],
   "execution_count": 134
  },
  {
   "metadata": {},
   "cell_type": "markdown",
   "source": "Pasemos a numérico todos los datos que deberían serlo, pero se están recibiendo mal",
   "id": "7bf28f06858a43fc"
  },
  {
   "metadata": {
    "ExecuteTime": {
     "end_time": "2025-07-28T09:58:33.622276Z",
     "start_time": "2025-07-28T09:58:33.614128Z"
    }
   },
   "cell_type": "code",
   "source": [
    "print(df_trillado.columns.tolist())\n",
    "print(df_tostion.columns.tolist())\n",
    "print(df_despacho.columns.tolist())"
   ],
   "id": "4539d8dd063e5642",
   "outputs": [
    {
     "name": "stdout",
     "output_type": "stream",
     "text": [
      "['FECHA', 'LOTE', 'MARCA', 'CANTIDAD', 'HUMEDAD_%', 'HUMEDAD_C/NC', 'MALLAS_#', 'MALLAS_C/NC', 'VERIFICACION_FISICA', 'NOTAS_CATACION', 'PUNTAJE_#', 'PUNTAJE_C/NC', 'LIBERACION_LOTE', 'RESPONSABLE', 'SEDE']\n",
      "['FECHA', 'LOTE', 'ORIGEN', 'VARIEDAD', 'PROCESO', 'BENEFICIO', 'PESO_VERDE', 'MERMA', 'PESO_TOSTADO', 'PERFIL', 'TEMPER_INICIO-FINAL', 'TIEMPO_TUESTE', 'OBSERVACIONES', 'RESPONSABLE', 'SEDE', 'TEM_INICIO', 'TEM_FINAL', 'MARCA']\n",
      "['PEDIDO', 'FECHA_TUESTE', 'FECHA_EMPAQUE', 'MARCA', 'PRESENTACION', 'CANTIDAD', 'CLIENTE', 'RESPONSABLE', 'VERIFICA', 'SEDE']\n"
     ]
    }
   ],
   "execution_count": 135
  },
  {
   "metadata": {
    "ExecuteTime": {
     "end_time": "2025-07-28T09:58:41.557855Z",
     "start_time": "2025-07-28T09:58:41.306475Z"
    }
   },
   "cell_type": "code",
   "source": [
    "# Convertir columnas numéricas a tipo numérico\n",
    "def convertir_a_numerico(df, columnas):\n",
    "    for col in columnas:\n",
    "        df[col] = pd.to_numeric(df[col], errors='coerce')\n",
    "    return df\n",
    "# Listas de columnas a convertir\n",
    "columnas_trillado_num = ['CANTIDAD', 'HUMEDAD_%', 'MALLAS_#', 'PUNTAJE_#']\n",
    "columnas_tostion_num = ['PESO_VERDE', 'MERMA', 'PESO_TOSTADO', 'TEM_INICIO', 'TEM_FINAL', 'TIEMPO_TUESTE']\n",
    "columnas_despacho_num = ['PEDIDO', 'PRESENTACION', 'CANTIDAD']\n",
    "\n",
    "# Aplicar la conversión\n",
    "df_trillado = convertir_a_numerico(df_trillado, columnas_trillado_num)  \n",
    "df_tostion = convertir_a_numerico(df_tostion, columnas_tostion_num)\n",
    "df_despacho = convertir_a_numerico(df_despacho, columnas_despacho_num)"
   ],
   "id": "bc9ad06bda3ffe79",
   "outputs": [],
   "execution_count": 136
  },
  {
   "metadata": {
    "ExecuteTime": {
     "end_time": "2025-07-28T10:12:51.393165Z",
     "start_time": "2025-07-28T10:12:49.428820Z"
    }
   },
   "cell_type": "code",
   "source": [
    "# (Opcional) Pasar a tipo  todas las columnas que son de C o NC\n",
    "columnas_trillado_boo = ['HUMEDAD_C/NC', 'MALLAS_C/NC', 'PUNTAJE_C/NC']\n",
    "\n",
    "for col in columnas_trillado_boo:\n",
    "    df_trillado[col] = df_trillado[col].str.upper().map({'C': True, 'NC': False})\n",
    "   "
   ],
   "id": "b2b7e2b10db9b345",
   "outputs": [],
   "execution_count": null
  },
  {
   "metadata": {
    "ExecuteTime": {
     "end_time": "2025-07-28T10:16:48.055666Z",
     "start_time": "2025-07-28T10:16:47.841730Z"
    }
   },
   "cell_type": "code",
   "source": " df_trillado['LIBERACION_LOTE'] = df_trillado['LIBERACION_LOTE'].str.upper().map({'SI': True, 'NO': False})",
   "id": "b5e45dbbd8f4961f",
   "outputs": [],
   "execution_count": 145
  },
  {
   "metadata": {
    "ExecuteTime": {
     "end_time": "2025-07-28T10:19:36.029739Z",
     "start_time": "2025-07-28T10:19:35.933890Z"
    }
   },
   "cell_type": "code",
   "source": [
    "for col in columnas_trillado_boo:\n",
    "    df_tostion[0, col] = True"
   ],
   "id": "b4727ca9e103c9ec",
   "outputs": [],
   "execution_count": 148
  },
  {
   "metadata": {
    "ExecuteTime": {
     "end_time": "2025-07-28T10:19:39.489817Z",
     "start_time": "2025-07-28T10:19:39.443630Z"
    }
   },
   "cell_type": "code",
   "source": "df_trillado",
   "id": "6ff7c460a716c367",
   "outputs": [
    {
     "data": {
      "text/plain": [
       "         FECHA         LOTE               MARCA  CANTIDAD  HUMEDAD_%  \\\n",
       "0   2022-07-19    01-190722  Madre Laura Lavado    765.00       10.9   \n",
       "1   2022-07-19    09-190722       Don Juan Tabi    204.00       10.2   \n",
       "2   2022-07-19    10-190722        Doña Liceth     165.00       10.7   \n",
       "3   2022-07-27  07-19-07-22           Don Felix      0.45       10.5   \n",
       "4   2022-10-31    01-291022  Madre Laura Lavado    105.00       10.7   \n",
       "..         ...          ...                 ...       ...        ...   \n",
       "103 2023-10-27    01-271023  Madre Laura Lavado     20.00       10.5   \n",
       "104 2024-01-10    01-100124  Madre Laura Lavado     20.00       10.4   \n",
       "105 2024-04-02    01-020424  Madre Laura Lavado     20.00       10.5   \n",
       "106 2024-06-20    01-200624  Madre Laura Lavado     14.00       10.8   \n",
       "107 2024-07-18    01-180724  Madre Laura Lavado     20.00       10.2   \n",
       "\n",
       "    HUMEDAD_C/NC  MALLAS_# MALLAS_C/NC VERIFICACION_FISICA  \\\n",
       "0            NaN        14         NaN                   C   \n",
       "1           True        14        True                   C   \n",
       "2           True        14        True                   C   \n",
       "3           True        14        True                   C   \n",
       "4           True        14        True                   C   \n",
       "..           ...       ...         ...                 ...   \n",
       "103         True        14        True                   C   \n",
       "104         True        14        True                   c   \n",
       "105         True        14        True                   C   \n",
       "106         True        14        True                   C   \n",
       "107         True        14        True                   C   \n",
       "\n",
       "                                        NOTAS_CATACION  PUNTAJE_#  \\\n",
       "0    Chocolate negro, toque frutal, cuerpo medio, a...       84.0   \n",
       "1    Frutas maduras, nibs de cacao, acidez brillant...       85.0   \n",
       "2    Panela, durazno, miel, acidez brillante citric...       84.5   \n",
       "3    Moras maduras, chocolate negro, acidez media c...       84.5   \n",
       "4    Chocolate negro, toque frutal, cuerpo medio, a...       84.0   \n",
       "..                                                 ...        ...   \n",
       "103  Chocolate negro, toque frutal, cuerpo medio, a...       84.0   \n",
       "104  Chocolate negro, toque frutal, cuerpo medio, a...       84.0   \n",
       "105  Chocolate negro, toque frutal, cuerpo medio, a...       84.0   \n",
       "106  Chocolate negro, toque frutal, cuerpo medio, a...       84.0   \n",
       "107  Chocolate negro, toque frutal, cuerpo medio, a...       84.0   \n",
       "\n",
       "    PUNTAJE_C/NC LIBERACION_LOTE RESPONSABLE      SEDE  \n",
       "0            NaN             NaN         LFQ  medellin  \n",
       "1           True             NaN        LFQ   medellin  \n",
       "2           True             NaN        LFQ   medellin  \n",
       "3           True             NaN         LFQ  medellin  \n",
       "4            NaN             NaN         LFQ  medellin  \n",
       "..           ...             ...         ...       ...  \n",
       "103         True            True          AC    jerico  \n",
       "104         True            True          AC    jerico  \n",
       "105         True            True          AC    jerico  \n",
       "106         True            True          AC    jerico  \n",
       "107         True            True          Ac    jerico  \n",
       "\n",
       "[108 rows x 15 columns]"
      ],
      "text/html": [
       "<div>\n",
       "<style scoped>\n",
       "    .dataframe tbody tr th:only-of-type {\n",
       "        vertical-align: middle;\n",
       "    }\n",
       "\n",
       "    .dataframe tbody tr th {\n",
       "        vertical-align: top;\n",
       "    }\n",
       "\n",
       "    .dataframe thead th {\n",
       "        text-align: right;\n",
       "    }\n",
       "</style>\n",
       "<table border=\"1\" class=\"dataframe\">\n",
       "  <thead>\n",
       "    <tr style=\"text-align: right;\">\n",
       "      <th></th>\n",
       "      <th>FECHA</th>\n",
       "      <th>LOTE</th>\n",
       "      <th>MARCA</th>\n",
       "      <th>CANTIDAD</th>\n",
       "      <th>HUMEDAD_%</th>\n",
       "      <th>HUMEDAD_C/NC</th>\n",
       "      <th>MALLAS_#</th>\n",
       "      <th>MALLAS_C/NC</th>\n",
       "      <th>VERIFICACION_FISICA</th>\n",
       "      <th>NOTAS_CATACION</th>\n",
       "      <th>PUNTAJE_#</th>\n",
       "      <th>PUNTAJE_C/NC</th>\n",
       "      <th>LIBERACION_LOTE</th>\n",
       "      <th>RESPONSABLE</th>\n",
       "      <th>SEDE</th>\n",
       "    </tr>\n",
       "  </thead>\n",
       "  <tbody>\n",
       "    <tr>\n",
       "      <th>0</th>\n",
       "      <td>2022-07-19</td>\n",
       "      <td>01-190722</td>\n",
       "      <td>Madre Laura Lavado</td>\n",
       "      <td>765.00</td>\n",
       "      <td>10.9</td>\n",
       "      <td>NaN</td>\n",
       "      <td>14</td>\n",
       "      <td>NaN</td>\n",
       "      <td>C</td>\n",
       "      <td>Chocolate negro, toque frutal, cuerpo medio, a...</td>\n",
       "      <td>84.0</td>\n",
       "      <td>NaN</td>\n",
       "      <td>NaN</td>\n",
       "      <td>LFQ</td>\n",
       "      <td>medellin</td>\n",
       "    </tr>\n",
       "    <tr>\n",
       "      <th>1</th>\n",
       "      <td>2022-07-19</td>\n",
       "      <td>09-190722</td>\n",
       "      <td>Don Juan Tabi</td>\n",
       "      <td>204.00</td>\n",
       "      <td>10.2</td>\n",
       "      <td>True</td>\n",
       "      <td>14</td>\n",
       "      <td>True</td>\n",
       "      <td>C</td>\n",
       "      <td>Frutas maduras, nibs de cacao, acidez brillant...</td>\n",
       "      <td>85.0</td>\n",
       "      <td>True</td>\n",
       "      <td>NaN</td>\n",
       "      <td>LFQ</td>\n",
       "      <td>medellin</td>\n",
       "    </tr>\n",
       "    <tr>\n",
       "      <th>2</th>\n",
       "      <td>2022-07-19</td>\n",
       "      <td>10-190722</td>\n",
       "      <td>Doña Liceth</td>\n",
       "      <td>165.00</td>\n",
       "      <td>10.7</td>\n",
       "      <td>True</td>\n",
       "      <td>14</td>\n",
       "      <td>True</td>\n",
       "      <td>C</td>\n",
       "      <td>Panela, durazno, miel, acidez brillante citric...</td>\n",
       "      <td>84.5</td>\n",
       "      <td>True</td>\n",
       "      <td>NaN</td>\n",
       "      <td>LFQ</td>\n",
       "      <td>medellin</td>\n",
       "    </tr>\n",
       "    <tr>\n",
       "      <th>3</th>\n",
       "      <td>2022-07-27</td>\n",
       "      <td>07-19-07-22</td>\n",
       "      <td>Don Felix</td>\n",
       "      <td>0.45</td>\n",
       "      <td>10.5</td>\n",
       "      <td>True</td>\n",
       "      <td>14</td>\n",
       "      <td>True</td>\n",
       "      <td>C</td>\n",
       "      <td>Moras maduras, chocolate negro, acidez media c...</td>\n",
       "      <td>84.5</td>\n",
       "      <td>True</td>\n",
       "      <td>NaN</td>\n",
       "      <td>LFQ</td>\n",
       "      <td>medellin</td>\n",
       "    </tr>\n",
       "    <tr>\n",
       "      <th>4</th>\n",
       "      <td>2022-10-31</td>\n",
       "      <td>01-291022</td>\n",
       "      <td>Madre Laura Lavado</td>\n",
       "      <td>105.00</td>\n",
       "      <td>10.7</td>\n",
       "      <td>True</td>\n",
       "      <td>14</td>\n",
       "      <td>True</td>\n",
       "      <td>C</td>\n",
       "      <td>Chocolate negro, toque frutal, cuerpo medio, a...</td>\n",
       "      <td>84.0</td>\n",
       "      <td>NaN</td>\n",
       "      <td>NaN</td>\n",
       "      <td>LFQ</td>\n",
       "      <td>medellin</td>\n",
       "    </tr>\n",
       "    <tr>\n",
       "      <th>...</th>\n",
       "      <td>...</td>\n",
       "      <td>...</td>\n",
       "      <td>...</td>\n",
       "      <td>...</td>\n",
       "      <td>...</td>\n",
       "      <td>...</td>\n",
       "      <td>...</td>\n",
       "      <td>...</td>\n",
       "      <td>...</td>\n",
       "      <td>...</td>\n",
       "      <td>...</td>\n",
       "      <td>...</td>\n",
       "      <td>...</td>\n",
       "      <td>...</td>\n",
       "      <td>...</td>\n",
       "    </tr>\n",
       "    <tr>\n",
       "      <th>103</th>\n",
       "      <td>2023-10-27</td>\n",
       "      <td>01-271023</td>\n",
       "      <td>Madre Laura Lavado</td>\n",
       "      <td>20.00</td>\n",
       "      <td>10.5</td>\n",
       "      <td>True</td>\n",
       "      <td>14</td>\n",
       "      <td>True</td>\n",
       "      <td>C</td>\n",
       "      <td>Chocolate negro, toque frutal, cuerpo medio, a...</td>\n",
       "      <td>84.0</td>\n",
       "      <td>True</td>\n",
       "      <td>True</td>\n",
       "      <td>AC</td>\n",
       "      <td>jerico</td>\n",
       "    </tr>\n",
       "    <tr>\n",
       "      <th>104</th>\n",
       "      <td>2024-01-10</td>\n",
       "      <td>01-100124</td>\n",
       "      <td>Madre Laura Lavado</td>\n",
       "      <td>20.00</td>\n",
       "      <td>10.4</td>\n",
       "      <td>True</td>\n",
       "      <td>14</td>\n",
       "      <td>True</td>\n",
       "      <td>c</td>\n",
       "      <td>Chocolate negro, toque frutal, cuerpo medio, a...</td>\n",
       "      <td>84.0</td>\n",
       "      <td>True</td>\n",
       "      <td>True</td>\n",
       "      <td>AC</td>\n",
       "      <td>jerico</td>\n",
       "    </tr>\n",
       "    <tr>\n",
       "      <th>105</th>\n",
       "      <td>2024-04-02</td>\n",
       "      <td>01-020424</td>\n",
       "      <td>Madre Laura Lavado</td>\n",
       "      <td>20.00</td>\n",
       "      <td>10.5</td>\n",
       "      <td>True</td>\n",
       "      <td>14</td>\n",
       "      <td>True</td>\n",
       "      <td>C</td>\n",
       "      <td>Chocolate negro, toque frutal, cuerpo medio, a...</td>\n",
       "      <td>84.0</td>\n",
       "      <td>True</td>\n",
       "      <td>True</td>\n",
       "      <td>AC</td>\n",
       "      <td>jerico</td>\n",
       "    </tr>\n",
       "    <tr>\n",
       "      <th>106</th>\n",
       "      <td>2024-06-20</td>\n",
       "      <td>01-200624</td>\n",
       "      <td>Madre Laura Lavado</td>\n",
       "      <td>14.00</td>\n",
       "      <td>10.8</td>\n",
       "      <td>True</td>\n",
       "      <td>14</td>\n",
       "      <td>True</td>\n",
       "      <td>C</td>\n",
       "      <td>Chocolate negro, toque frutal, cuerpo medio, a...</td>\n",
       "      <td>84.0</td>\n",
       "      <td>True</td>\n",
       "      <td>True</td>\n",
       "      <td>AC</td>\n",
       "      <td>jerico</td>\n",
       "    </tr>\n",
       "    <tr>\n",
       "      <th>107</th>\n",
       "      <td>2024-07-18</td>\n",
       "      <td>01-180724</td>\n",
       "      <td>Madre Laura Lavado</td>\n",
       "      <td>20.00</td>\n",
       "      <td>10.2</td>\n",
       "      <td>True</td>\n",
       "      <td>14</td>\n",
       "      <td>True</td>\n",
       "      <td>C</td>\n",
       "      <td>Chocolate negro, toque frutal, cuerpo medio, a...</td>\n",
       "      <td>84.0</td>\n",
       "      <td>True</td>\n",
       "      <td>True</td>\n",
       "      <td>Ac</td>\n",
       "      <td>jerico</td>\n",
       "    </tr>\n",
       "  </tbody>\n",
       "</table>\n",
       "<p>108 rows × 15 columns</p>\n",
       "</div>"
      ]
     },
     "execution_count": 149,
     "metadata": {},
     "output_type": "execute_result"
    }
   ],
   "execution_count": 149
  }
 ],
 "metadata": {
  "kernelspec": {
   "display_name": "Python 3",
   "language": "python",
   "name": "python3"
  },
  "language_info": {
   "codemirror_mode": {
    "name": "ipython",
    "version": 2
   },
   "file_extension": ".py",
   "mimetype": "text/x-python",
   "name": "python",
   "nbconvert_exporter": "python",
   "pygments_lexer": "ipython2",
   "version": "2.7.6"
  }
 },
 "nbformat": 4,
 "nbformat_minor": 5
}
