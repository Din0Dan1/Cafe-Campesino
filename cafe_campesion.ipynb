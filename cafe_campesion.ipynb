{
 "cells": [
  {
   "cell_type": "markdown",
   "id": "078fdc2f",
   "metadata": {},
   "source": [
    "# Predicción de calidad del café"
   ]
  },
  {
   "cell_type": "markdown",
   "id": "9ddbdc6e",
   "metadata": {},
   "source": [
    "## Requerimientos"
   ]
  },
  {
   "cell_type": "markdown",
   "id": "6b8cd836",
   "metadata": {},
   "source": ""
  },
  {
   "cell_type": "code",
   "id": "3d54a650",
   "metadata": {
    "ExecuteTime": {
     "end_time": "2025-07-21T17:23:45.084043Z",
     "start_time": "2025-07-21T17:23:40.645458Z"
    }
   },
   "source": [
    "import pandas as pd\n",
    "import numpy as np\n",
    "import matplotlib.pyplot as plt\n",
    "import seaborn as sns\n",
    "import shap\n",
    "from sklearn.linear_model import LinearRegression\n",
    "from sklearn.ensemble import RandomForestRegressor\n",
    "from sklearn.model_selection import train_test_split\n",
    "from openpyxl import load_workbook\n",
    "\n",
    "print(\"¡Herramientas listas!\")\n"
   ],
   "outputs": [
    {
     "name": "stdout",
     "output_type": "stream",
     "text": [
      "¡Herramientas listas!\n"
     ]
    }
   ],
   "execution_count": 4
  },
  {
   "cell_type": "markdown",
   "id": "256b920a",
   "metadata": {},
   "source": [
    "## Carga de datos"
   ]
  },
  {
   "cell_type": "code",
   "id": "0e3b661d",
   "metadata": {
    "ExecuteTime": {
     "end_time": "2025-07-25T17:39:26.216670Z",
     "start_time": "2025-07-25T17:39:26.172117Z"
    }
   },
   "source": [
    "# 📂 Leer rutas desde el archivo de texto\n",
    "with open(\"rutas_archivos.txt\", \"r\", encoding=\"utf-8\") as f:\n",
    "    rutas = [line.strip() for line in f if line.strip()]\n",
    "\n",
    "print(f\"Se encontraron {len(rutas)} archivos:\")\n",
    "for ruta in rutas:\n",
    "    print(\"•\", ruta)\n"
   ],
   "outputs": [
    {
     "name": "stdout",
     "output_type": "stream",
     "text": [
      "Se encontraron 3 archivos:\n",
      "• C:\\Users\\JOSE DANIEL M\\OneDrive\\Documentos\\Universidad\\Aprendizaje Estadístico\\Tarea 1 Aprendizaje Automatico\\CC FT 17   Formato de Control de Calidad Café de Trillado.xlsx\n",
      "• C:\\Users\\JOSE DANIEL M\\OneDrive\\Documentos\\Universidad\\Aprendizaje Estadístico\\Tarea 1 Aprendizaje Automatico\\CC FT 18  Formato de  Tostión.xlsx\n",
      "• C:\\Users\\JOSE DANIEL M\\OneDrive\\Documentos\\Universidad\\Aprendizaje Estadístico\\Tarea 1 Aprendizaje Automatico\\CC FT 21   Formato de Control de Despachos.xlsx\n"
     ]
    }
   ],
   "execution_count": 127
  },
  {
   "metadata": {
    "ExecuteTime": {
     "end_time": "2025-07-25T17:39:31.081126Z",
     "start_time": "2025-07-25T17:39:31.072188Z"
    }
   },
   "cell_type": "code",
   "source": [
    "ruta_trillado, ruta_tostion, ruta_despacho = rutas\n",
    "# rutas asigndas por separado"
   ],
   "id": "5c051a29ffb3d02c",
   "outputs": [],
   "execution_count": 128
  },
  {
   "metadata": {},
   "cell_type": "markdown",
   "source": "Hojas del primer archivo:",
   "id": "294bf20582413322"
  },
  {
   "metadata": {
    "ExecuteTime": {
     "end_time": "2025-07-21T18:13:25.418409Z",
     "start_time": "2025-07-21T18:13:25.303078Z"
    }
   },
   "cell_type": "code",
   "source": "pd.ExcelFile(ruta_trillado).sheet_names",
   "id": "4c134b56a610efd3",
   "outputs": [
    {
     "data": {
      "text/plain": [
       "['CONTROL CALIDAD CAFE TRILLADO J',\n",
       " 'Sheet2',\n",
       " 'LOTES',\n",
       " 'ACCIONES CORRECTIVAS   ']"
      ]
     },
     "execution_count": 19,
     "metadata": {},
     "output_type": "execute_result"
    }
   ],
   "execution_count": 19
  },
  {
   "metadata": {},
   "cell_type": "markdown",
   "source": "Hojas del segundo archivo:",
   "id": "b9f9bd6291bc04d0"
  },
  {
   "metadata": {
    "ExecuteTime": {
     "end_time": "2025-07-21T18:14:10.642281Z",
     "start_time": "2025-07-21T18:14:10.530378Z"
    }
   },
   "cell_type": "code",
   "source": "pd.ExcelFile(ruta_tostion).sheet_names",
   "id": "bd7f616d1fca0cf4",
   "outputs": [
    {
     "data": {
      "text/plain": [
       "['TOSTIÓN JERICÓ L', 'TOSTIÓN JERICÓ', 'ACCIONES CORRECTIVAS ']"
      ]
     },
     "execution_count": 20,
     "metadata": {},
     "output_type": "execute_result"
    }
   ],
   "execution_count": 20
  },
  {
   "metadata": {},
   "cell_type": "markdown",
   "source": "Hojas del tercer archivo:",
   "id": "b804ecf25e9f6f20"
  },
  {
   "metadata": {
    "ExecuteTime": {
     "end_time": "2025-07-25T17:39:12.939759Z",
     "start_time": "2025-07-25T17:39:12.797785Z"
    }
   },
   "cell_type": "code",
   "source": "pd.ExcelFile(ruta_despacho).sheet_names",
   "id": "f16e039980d6c842",
   "outputs": [
    {
     "data": {
      "text/plain": [
       "['TOSTIÓN MEDELLÍN', 'TOSTIÓN JERICÓ', 'ACCIONES CORRECTIVAS ']"
      ]
     },
     "execution_count": 126,
     "metadata": {},
     "output_type": "execute_result"
    }
   ],
   "execution_count": 126
  },
  {
   "metadata": {
    "ExecuteTime": {
     "end_time": "2025-07-25T17:55:31.217932Z",
     "start_time": "2025-07-25T17:55:29.939414Z"
    }
   },
   "cell_type": "code",
   "source": [
    "# Cargar cada base en su propio DataFrame\n",
    "df_trillado_1 = pd.read_excel(ruta_trillado, engine=\"openpyxl\", skiprows=8, header=None,sheet_name=\"CONTROL CALIDAD CAFE TRILLADO J\" )\n",
    "df_trillado_jerico = pd.read_excel(ruta_trillado, engine=\"openpyxl\", skiprows=8, header=None, sheet_name=\"Sheet2\")\n",
    "df_tostion_1 = pd.read_excel(ruta_tostion, engine=\"openpyxl\", skiprows=6, header=None, sheet_name= \"TOSTIÓN JERICÓ L\")\n",
    "df_tostion_jerico= pd.read_excel(ruta_tostion, engine=\"openpyxl\", skiprows=6, header=None, sheet_name= \"TOSTIÓN JERICÓ\")\n",
    "df_despacho_medellin = pd.read_excel(ruta_despacho, engine=\"openpyxl\", skiprows=6, header=0, sheet_name=\"TOSTIÓN MEDELLÍN\", usecols=[0, 1, 2, 3, 4, 6, 9, 10, 11])\n",
    "df_despacho_jerico = pd.read_excel(ruta_despacho, engine=\"openpyxl\", skiprows=6, header=0, sheet_name=\"TOSTIÓN JERICÓ\", usecols=[0, 1, 2, 3, 4, 6, 9, 10, 11])\n",
    "\n",
    "#Etiquetado de columnas manual de Trillado\n",
    "columnas_trillado = [\n",
    "    \"FECHA\",\n",
    "    \"LOTE\",\n",
    "    \"MARCA\",\n",
    "    \"CANTIDAD\",\n",
    "    \"HUMEDAD_%\",\n",
    "    \"HUMEDAD_C/NC\",\n",
    "    \"MALLAS_#\",\n",
    "    \"MALLAS_C/NC\",\n",
    "    \"VERIFICACION_FISICA\",\n",
    "    \"NOTAS_CATACION\",\n",
    "    \"PUNTAJE_#\",\n",
    "    \"PUNTAJE_C/NC\",\n",
    "    \"LIBERACION_LOTE\",\n",
    "    \"RESPONSABLE\"\n",
    "]\n",
    "columnas_tostion = [\n",
    "    \"FECHA\",\n",
    "    \"LOTE\",\n",
    "    \"ORIGEN\",\n",
    "    \"VARIEDAD\",\n",
    "    \"PROCESO\",\n",
    "    \"BENEFICIO\",\n",
    "    \"PESO_VERDE\",\n",
    "    \"MERMA\",\n",
    "    \"PESO_TOSTADO\",\n",
    "    \"PERFIL\",\n",
    "    \"TEMPER_INICIO-FINAL\",\n",
    "    \"TIEMPO_TUESTE\",\n",
    "    \"OBSERVACIONES\",\n",
    "    \"RESPONSABLE\"\n",
    "]\n",
    "columnas_despacho = [\n",
    "    \"PEDIDO\",\n",
    "    \"FECHA_TUESTE\",\n",
    "    \"FECHA_EMPAQUE\",\n",
    "    \"MARCA\",\n",
    "    \"PRESENTACION\",\n",
    "    \"CANTIDAD\",\n",
    "    \"CLIENTE\",\n",
    "    \"RESPONSABLE\",\n",
    "    \"VERIFICA\"\n",
    "]\n",
    "df_trillado_1.columns = columnas_trillado\n",
    "df_trillado_jerico.columns = columnas_trillado\n",
    "df_tostion_1.columns = columnas_tostion\n",
    "df_tostion_jerico.columns = columnas_tostion\n",
    "df_despacho_medellin.columns = columnas_despacho\n",
    "df_despacho_jerico.columns = columnas_despacho\n",
    "print(\"Archivos cargados correctamente.\")"
   ],
   "id": "ceb75391b9e54320",
   "outputs": [
    {
     "name": "stdout",
     "output_type": "stream",
     "text": [
      "Archivos cargados correctamente.\n"
     ]
    }
   ],
   "execution_count": 151
  },
  {
   "metadata": {
    "ExecuteTime": {
     "end_time": "2025-07-25T17:55:33.427138Z",
     "start_time": "2025-07-25T17:55:33.345777Z"
    }
   },
   "cell_type": "code",
   "source": [
    "# Convertir las columnas de fecha a tipo datetime con formatos mixtos\n",
    "\n",
    "# --- Trillado ---\n",
    "df_trillado_1['FECHA'] = pd.to_datetime(\n",
    "    df_trillado_1['FECHA'], \n",
    "    format='mixed', \n",
    "    dayfirst=True, \n",
    "    errors='coerce'\n",
    ")\n",
    "\n",
    "df_trillado_jerico['FECHA'] = pd.to_datetime(\n",
    "    df_trillado_jerico['FECHA'], \n",
    "    format='mixed', \n",
    "    dayfirst=True, \n",
    "    errors='coerce'\n",
    ")\n",
    "\n",
    "# --- Tostión ---\n",
    "df_tostion_1['FECHA'] = pd.to_datetime(\n",
    "    df_tostion_1['FECHA'], \n",
    "    format='mixed', \n",
    "    dayfirst=True, \n",
    "    errors='coerce'\n",
    ")\n",
    "\n",
    "df_tostion_jerico['FECHA'] = pd.to_datetime(\n",
    "    df_tostion_jerico['FECHA'], \n",
    "    format='mixed', \n",
    "    dayfirst=True, \n",
    "    errors='coerce'\n",
    ")\n",
    "\n",
    "# --- Despacho ---\n",
    "df_despacho_medellin['FECHA_TUESTE'] = pd.to_datetime(\n",
    "    df_despacho_medellin['FECHA_TUESTE'], \n",
    "    format='mixed', \n",
    "    dayfirst=True, \n",
    "    errors='coerce'\n",
    ")\n",
    "\n",
    "df_despacho_jerico['FECHA_TUESTE'] = pd.to_datetime(\n",
    "    df_despacho_jerico['FECHA_TUESTE'], \n",
    "    format='mixed', \n",
    "    dayfirst=True, \n",
    "    errors='coerce'\n",
    ")\n",
    "\n",
    "df_despacho_medellin['FECHA_EMPAQUE'] = pd.to_datetime(\n",
    "    df_despacho_medellin['FECHA_EMPAQUE'], \n",
    "    format='mixed', \n",
    "    dayfirst=True, \n",
    "    errors='coerce'\n",
    ")\n",
    "\n",
    "df_despacho_jerico['FECHA_EMPAQUE'] = pd.to_datetime(\n",
    "    df_despacho_jerico['FECHA_EMPAQUE'], \n",
    "    format='mixed', \n",
    "    dayfirst=True, \n",
    "    errors='coerce'\n",
    ")\n"
   ],
   "id": "ea6a53abb3b3cd3b",
   "outputs": [],
   "execution_count": 152
  },
  {
   "metadata": {
    "ExecuteTime": {
     "end_time": "2025-07-25T17:55:42.869624Z",
     "start_time": "2025-07-25T17:55:42.845042Z"
    }
   },
   "cell_type": "code",
   "source": [
    "#Separar la columna TEMPER_INICIO-FINAL en dos columnas TEM_INICIO y TEM_FINAL\n",
    "#temp_series = df_tostion_1['TEMPER_INICIO-FINAL'].astype(str).str.replace('°', '', regex=False)\n",
    "df_tostion_1[['TEM_INICIO', 'TEM_FINAL']] = df_tostion_1['TEMPER_INICIO-FINAL'].str.replace('°', '', regex=False).str.split('/', expand=True)\n",
    "df_tostion_1.drop(columns=['TEMPER_INICIO-FINAL'], inplace=True)\n",
    "df_tostion_jerico[['TEM_INICIO', 'TEM_FINAL']] = df_tostion_jerico['TEMPER_INICIO-FINAL'].str.replace('°', '').str.split('-', expand=True)\n",
    "df_tostion_jerico.drop(columns=['TEMPER_INICIO-FINAL'], inplace=True)"
   ],
   "id": "9a79e4e6f40ac8c0",
   "outputs": [],
   "execution_count": 153
  },
  {
   "metadata": {},
   "cell_type": "markdown",
   "source": "Nos tenemos que aseguar que los dataframes estén recibiendo correctamente los datos de tipo numérico y no los estén pasando como un string",
   "id": "97f1b9215c8ba8f9"
  },
  {
   "metadata": {
    "ExecuteTime": {
     "end_time": "2025-07-25T17:58:59.471411Z",
     "start_time": "2025-07-25T17:58:59.439602Z"
    }
   },
   "cell_type": "code",
   "source": [
    "def clasificar_variables(df):\n",
    "    resumen = {}\n",
    "\n",
    "    for col in df.columns:\n",
    "        tipo = df[col].dtype\n",
    "\n",
    "        if pd.api.types.is_numeric_dtype(df[col]):\n",
    "            resumen[col] = 'numérica'\n",
    "        elif pd.api.types.is_bool_dtype(df[col]):\n",
    "            resumen[col] = 'booleana'\n",
    "        elif isinstance(tipo, pd.CategoricalDtype):\n",
    "            resumen[col] = 'categórica'\n",
    "        elif pd.api.types.is_string_dtype(df[col]):\n",
    "            resumen[col] = 'string'\n",
    "        elif pd.api.types.is_datetime64_any_dtype(df[col]):\n",
    "            resumen[col] = 'fecha'\n",
    "        else:\n",
    "            resumen[col] = 'otros'\n",
    "\n",
    "    return pd.Series(resumen, name='tipo_variable')\n"
   ],
   "id": "6ac6233735e95f43",
   "outputs": [],
   "execution_count": 157
  },
  {
   "metadata": {
    "ExecuteTime": {
     "end_time": "2025-07-25T17:59:02.754627Z",
     "start_time": "2025-07-25T17:59:02.739397Z"
    }
   },
   "cell_type": "code",
   "source": "clasificar_variables(df_trillado_1)",
   "id": "fef5283b99f46dcd",
   "outputs": [
    {
     "data": {
      "text/plain": [
       "FECHA                     fecha\n",
       "LOTE                      otros\n",
       "MARCA                     otros\n",
       "CANTIDAD               numérica\n",
       "HUMEDAD_%              numérica\n",
       "HUMEDAD_C/NC              otros\n",
       "MALLAS_#               numérica\n",
       "MALLAS_C/NC               otros\n",
       "VERIFICACION_FISICA       otros\n",
       "NOTAS_CATACION            otros\n",
       "PUNTAJE_#                 otros\n",
       "PUNTAJE_C/NC              otros\n",
       "LIBERACION_LOTE           otros\n",
       "RESPONSABLE               otros\n",
       "Name: tipo_variable, dtype: object"
      ]
     },
     "execution_count": 158,
     "metadata": {},
     "output_type": "execute_result"
    }
   ],
   "execution_count": 158
  },
  {
   "metadata": {
    "ExecuteTime": {
     "end_time": "2025-07-25T17:59:32.816788Z",
     "start_time": "2025-07-25T17:59:32.795425Z"
    }
   },
   "cell_type": "code",
   "source": "clasificar_variables(df_trillado_jerico)",
   "id": "e5cdc98fdd3674ab",
   "outputs": [
    {
     "data": {
      "text/plain": [
       "FECHA                     fecha\n",
       "LOTE                      otros\n",
       "MARCA                     otros\n",
       "CANTIDAD               numérica\n",
       "HUMEDAD_%                 otros\n",
       "HUMEDAD_C/NC              otros\n",
       "MALLAS_#               numérica\n",
       "MALLAS_C/NC               otros\n",
       "VERIFICACION_FISICA       otros\n",
       "NOTAS_CATACION            otros\n",
       "PUNTAJE_#              numérica\n",
       "PUNTAJE_C/NC              otros\n",
       "LIBERACION_LOTE           otros\n",
       "RESPONSABLE               otros\n",
       "Name: tipo_variable, dtype: object"
      ]
     },
     "execution_count": 159,
     "metadata": {},
     "output_type": "execute_result"
    }
   ],
   "execution_count": 159
  },
  {
   "metadata": {
    "ExecuteTime": {
     "end_time": "2025-07-25T22:02:20.340944Z",
     "start_time": "2025-07-25T22:02:20.300674Z"
    }
   },
   "cell_type": "code",
   "source": "clasificar_variables(df_tostion_1)",
   "id": "96ef0dc54e3d7322",
   "outputs": [
    {
     "data": {
      "text/plain": [
       "FECHA               fecha\n",
       "LOTE               string\n",
       "ORIGEN             string\n",
       "VARIEDAD           string\n",
       "PROCESO            string\n",
       "BENEFICIO          string\n",
       "PESO_VERDE       numérica\n",
       "MERMA            numérica\n",
       "PESO_TOSTADO     numérica\n",
       "PERFIL             string\n",
       "TIEMPO_TUESTE       otros\n",
       "OBSERVACIONES    numérica\n",
       "RESPONSABLE        string\n",
       "TEM_INICIO         string\n",
       "TEM_FINAL           otros\n",
       "Name: tipo_variable, dtype: object"
      ]
     },
     "execution_count": 161,
     "metadata": {},
     "output_type": "execute_result"
    }
   ],
   "execution_count": 161
  },
  {
   "metadata": {
    "ExecuteTime": {
     "end_time": "2025-07-25T22:04:42.570321Z",
     "start_time": "2025-07-25T22:04:42.534685Z"
    }
   },
   "cell_type": "code",
   "source": "clasificar_variables(df_despacho_jerico)",
   "id": "1fa44c67cfa25bc3",
   "outputs": [
    {
     "data": {
      "text/plain": [
       "PEDIDO           numérica\n",
       "FECHA_TUESTE        fecha\n",
       "FECHA_EMPAQUE       fecha\n",
       "MARCA              string\n",
       "PRESENTACION       string\n",
       "CANTIDAD         numérica\n",
       "CLIENTE            string\n",
       "RESPONSABLE        string\n",
       "VERIFICA           string\n",
       "Name: tipo_variable, dtype: object"
      ]
     },
     "execution_count": 162,
     "metadata": {},
     "output_type": "execute_result"
    }
   ],
   "execution_count": 162
  },
  {
   "metadata": {
    "ExecuteTime": {
     "end_time": "2025-07-25T22:12:19.916571Z",
     "start_time": "2025-07-25T22:12:19.657345Z"
    }
   },
   "cell_type": "code",
   "source": [
    "def normalizar_presentacion_a_gramos(serie):\n",
    "    \"\"\"\n",
    "    Convierte una serie de strings como '250 Gr', '0.5 KG', '20kg', etc.\n",
    "    en su valor numérico en gramos como entero.\n",
    "    \"\"\"\n",
    "    def convertir(valor):\n",
    "        try:\n",
    "            val = str(valor).strip().lower()\n",
    "            if 'kg' in val:\n",
    "                num = float(val.split()[0].replace('kg', '').strip())\n",
    "                return int(num * 1000)\n",
    "            elif 'gr' in val:\n",
    "                num = float(val.split()[0].replace('gr', '').strip())\n",
    "                return int(num)\n",
    "            else:\n",
    "                num = float(val.split()[0])\n",
    "                return int(num)\n",
    "        except:\n",
    "            return None  \n",
    "\n",
    "    return serie.apply(convertir)\n",
    "# Aplicar la normalización a las columnas PRESENTACION\n",
    "#Quitarle el \"gr\" a PRESENTACION\n",
    "df_despacho_medellin['PRESENTACION'] = normalizar_presentacion_a_gramos(df_despacho_medellin['PRESENTACION'])\n",
    "\n",
    "df_despacho_jerico['PRESENTACION'] = normalizar_presentacion_a_gramos(df_despacho_jerico['PRESENTACION'])"
   ],
   "id": "2235f0a5d107af1d",
   "outputs": [],
   "execution_count": 163
  },
  {
   "metadata": {
    "ExecuteTime": {
     "end_time": "2025-07-25T22:12:23.387620Z",
     "start_time": "2025-07-25T22:12:23.310901Z"
    }
   },
   "cell_type": "code",
   "source": [
    "#Pasemos los datos a tipo numérico\n",
    "df_tostion_1['TEM_INICIO'] = pd.to_numeric(df_tostion_1['TEM_INICIO'], errors='coerce')\n",
    "df_tostion_1['TEM_FINAL'] = pd.to_numeric(df_tostion_1['TEM_FINAL'], errors='coerce')\n",
    "df_tostion_jerico['TEM_INICIO'] = pd.to_numeric(df_tostion_jerico['TEM_INICIO'], errors='coerce')\n",
    "df_tostion_jerico['TEM_FINAL'] = pd.to_numeric(df_tostion_jerico['TEM_FINAL'], errors='coerce')\n",
    "df_despacho_medellin['PRESENTACION'] = pd.to_numeric(df_despacho_medellin['PRESENTACION'], errors='coerce')\n",
    "df_despacho_jerico['PRESENTACION'] = pd.to_numeric(df_despacho_jerico['PRESENTACION'], errors='coerce')\n",
    "df_despacho_medellin['PEDIDO'] = pd.to_numeric(df_despacho_medellin['PEDIDO'], errors='coerce')\n",
    "df_despacho_jerico['PEDIDO'] = pd.to_numeric(df_despacho_jerico['PEDIDO'], errors='coerce')\n",
    "df_trillado_1['MALLAS_#'] = pd.to_numeric(df_trillado_1['MALLAS_#'], errors='coerce')\n",
    "df_trillado_jerico['MALLAS_#'] = pd.to_numeric(df_trillado_jerico['MALLAS_#'], errors='coerce')\n",
    "df_trillado_1['PUNTAJE_#'] = pd.to_numeric(df_trillado_1['PUNTAJE_#'], errors='coerce')\n",
    "df_trillado_jerico['PUNTAJE_#'] = pd.to_numeric(df_trillado_jerico['PUNTAJE_#'], errors='coerce')\n",
    "df_trillado_1['HUMEDAD_%'] = pd.to_numeric(df_trillado_1['HUMEDAD_%'], errors='coerce')\n",
    "df_trillado_jerico['HUMEDAD_%'] = pd.to_numeric(df_trillado_jerico['HUMEDAD_%'], errors='coerce')"
   ],
   "id": "2187e9f32258f0f3",
   "outputs": [],
   "execution_count": 164
  },
  {
   "metadata": {},
   "cell_type": "markdown",
   "source": "Visualicemos las primeras filas de cada DataFrame para entender su estructura",
   "id": "1c74e227df0542e6"
  },
  {
   "metadata": {
    "ExecuteTime": {
     "end_time": "2025-07-25T22:12:26.587146Z",
     "start_time": "2025-07-25T22:12:26.490109Z"
    }
   },
   "cell_type": "code",
   "source": [
    "# Función para inspección rápida de un DataFrame\n",
    "def inspeccionar(nombre, df):\n",
    "    print(f\"\\n📄 {nombre}: {df.shape[0]} filas, {df.shape[1]} columnas\")\n",
    "    display(df.head(5))\n",
    "    print(df.columns.tolist())\n",
    "\n",
    "# Inspección de cada uno\n",
    "inspeccionar(\"Trillado Otros\", df_trillado_1)\n",
    "inspeccionar(\"Trillado Jericó\", df_trillado_jerico)\n",
    "inspeccionar(\"Tostión Otros\", df_tostion_1)\n",
    "inspeccionar(\"Tostión Jericó\", df_tostion_jerico)\n",
    "inspeccionar(\"Despacho Medellín\", df_despacho_medellin)\n",
    "inspeccionar(\"Despacho Jericó\", df_despacho_jerico)"
   ],
   "id": "5d65e15d675640b7",
   "outputs": [
    {
     "name": "stdout",
     "output_type": "stream",
     "text": [
      "\n",
      "📄 Trillado Otros: 93 filas, 14 columnas\n"
     ]
    },
    {
     "data": {
      "text/plain": [
       "       FECHA         LOTE          MARCA  CANTIDAD  HUMEDAD_% HUMEDAD_C/NC  \\\n",
       "0 2022-07-19    01-190722   Madre Laura     765.00       10.9           C    \n",
       "1 2022-07-19    09-190722  Tabi Natural     204.00       10.2            C   \n",
       "2 2022-07-19    10-190722     Don Mario     165.00       10.7            C   \n",
       "3 2022-07-27  07-19-07-22     Don Felix       0.45       10.5            C   \n",
       "4 2022-10-31    01-291022   Madre Laura     105.00       10.7            C   \n",
       "\n",
       "   MALLAS_# MALLAS_C/NC VERIFICACION_FISICA  \\\n",
       "0      14.0          C                    C   \n",
       "1      14.0           C                   C   \n",
       "2      14.0           C                   C   \n",
       "3      14.0           C                   C   \n",
       "4      14.0           C                   C   \n",
       "\n",
       "                                      NOTAS_CATACION  PUNTAJE_# PUNTAJE_C/NC  \\\n",
       "0  Chocolate negro, toque frutal, cuerpo medio, a...       84.0           C    \n",
       "1  Frutas maduras, nibs de cacao, acidez brillant...       85.0            C   \n",
       "2  Panela, durazno, miel, acidez brillante citric...       84.5            C   \n",
       "3  Moras maduras, chocolate negro, acidez media c...       84.5            C   \n",
       "4  Chocolate negro, toque frutal, cuerpo medio, a...       84.0           C    \n",
       "\n",
       "  LIBERACION_LOTE RESPONSABLE  \n",
       "0             Si          LFQ  \n",
       "1             Si         LFQ   \n",
       "2             Si         LFQ   \n",
       "3             Si          LFQ  \n",
       "4             Si          LFQ  "
      ],
      "text/html": [
       "<div>\n",
       "<style scoped>\n",
       "    .dataframe tbody tr th:only-of-type {\n",
       "        vertical-align: middle;\n",
       "    }\n",
       "\n",
       "    .dataframe tbody tr th {\n",
       "        vertical-align: top;\n",
       "    }\n",
       "\n",
       "    .dataframe thead th {\n",
       "        text-align: right;\n",
       "    }\n",
       "</style>\n",
       "<table border=\"1\" class=\"dataframe\">\n",
       "  <thead>\n",
       "    <tr style=\"text-align: right;\">\n",
       "      <th></th>\n",
       "      <th>FECHA</th>\n",
       "      <th>LOTE</th>\n",
       "      <th>MARCA</th>\n",
       "      <th>CANTIDAD</th>\n",
       "      <th>HUMEDAD_%</th>\n",
       "      <th>HUMEDAD_C/NC</th>\n",
       "      <th>MALLAS_#</th>\n",
       "      <th>MALLAS_C/NC</th>\n",
       "      <th>VERIFICACION_FISICA</th>\n",
       "      <th>NOTAS_CATACION</th>\n",
       "      <th>PUNTAJE_#</th>\n",
       "      <th>PUNTAJE_C/NC</th>\n",
       "      <th>LIBERACION_LOTE</th>\n",
       "      <th>RESPONSABLE</th>\n",
       "    </tr>\n",
       "  </thead>\n",
       "  <tbody>\n",
       "    <tr>\n",
       "      <th>0</th>\n",
       "      <td>2022-07-19</td>\n",
       "      <td>01-190722</td>\n",
       "      <td>Madre Laura</td>\n",
       "      <td>765.00</td>\n",
       "      <td>10.9</td>\n",
       "      <td>C</td>\n",
       "      <td>14.0</td>\n",
       "      <td>C</td>\n",
       "      <td>C</td>\n",
       "      <td>Chocolate negro, toque frutal, cuerpo medio, a...</td>\n",
       "      <td>84.0</td>\n",
       "      <td>C</td>\n",
       "      <td>Si</td>\n",
       "      <td>LFQ</td>\n",
       "    </tr>\n",
       "    <tr>\n",
       "      <th>1</th>\n",
       "      <td>2022-07-19</td>\n",
       "      <td>09-190722</td>\n",
       "      <td>Tabi Natural</td>\n",
       "      <td>204.00</td>\n",
       "      <td>10.2</td>\n",
       "      <td>C</td>\n",
       "      <td>14.0</td>\n",
       "      <td>C</td>\n",
       "      <td>C</td>\n",
       "      <td>Frutas maduras, nibs de cacao, acidez brillant...</td>\n",
       "      <td>85.0</td>\n",
       "      <td>C</td>\n",
       "      <td>Si</td>\n",
       "      <td>LFQ</td>\n",
       "    </tr>\n",
       "    <tr>\n",
       "      <th>2</th>\n",
       "      <td>2022-07-19</td>\n",
       "      <td>10-190722</td>\n",
       "      <td>Don Mario</td>\n",
       "      <td>165.00</td>\n",
       "      <td>10.7</td>\n",
       "      <td>C</td>\n",
       "      <td>14.0</td>\n",
       "      <td>C</td>\n",
       "      <td>C</td>\n",
       "      <td>Panela, durazno, miel, acidez brillante citric...</td>\n",
       "      <td>84.5</td>\n",
       "      <td>C</td>\n",
       "      <td>Si</td>\n",
       "      <td>LFQ</td>\n",
       "    </tr>\n",
       "    <tr>\n",
       "      <th>3</th>\n",
       "      <td>2022-07-27</td>\n",
       "      <td>07-19-07-22</td>\n",
       "      <td>Don Felix</td>\n",
       "      <td>0.45</td>\n",
       "      <td>10.5</td>\n",
       "      <td>C</td>\n",
       "      <td>14.0</td>\n",
       "      <td>C</td>\n",
       "      <td>C</td>\n",
       "      <td>Moras maduras, chocolate negro, acidez media c...</td>\n",
       "      <td>84.5</td>\n",
       "      <td>C</td>\n",
       "      <td>Si</td>\n",
       "      <td>LFQ</td>\n",
       "    </tr>\n",
       "    <tr>\n",
       "      <th>4</th>\n",
       "      <td>2022-10-31</td>\n",
       "      <td>01-291022</td>\n",
       "      <td>Madre Laura</td>\n",
       "      <td>105.00</td>\n",
       "      <td>10.7</td>\n",
       "      <td>C</td>\n",
       "      <td>14.0</td>\n",
       "      <td>C</td>\n",
       "      <td>C</td>\n",
       "      <td>Chocolate negro, toque frutal, cuerpo medio, a...</td>\n",
       "      <td>84.0</td>\n",
       "      <td>C</td>\n",
       "      <td>Si</td>\n",
       "      <td>LFQ</td>\n",
       "    </tr>\n",
       "  </tbody>\n",
       "</table>\n",
       "</div>"
      ]
     },
     "metadata": {},
     "output_type": "display_data"
    },
    {
     "name": "stdout",
     "output_type": "stream",
     "text": [
      "['FECHA', 'LOTE', 'MARCA', 'CANTIDAD', 'HUMEDAD_%', 'HUMEDAD_C/NC', 'MALLAS_#', 'MALLAS_C/NC', 'VERIFICACION_FISICA', 'NOTAS_CATACION', 'PUNTAJE_#', 'PUNTAJE_C/NC', 'LIBERACION_LOTE', 'RESPONSABLE']\n",
      "\n",
      "📄 Trillado Jericó: 44 filas, 14 columnas\n"
     ]
    },
    {
     "data": {
      "text/plain": [
       "       FECHA       LOTE         MARCA  CANTIDAD  HUMEDAD_% HUMEDAD_C/NC  \\\n",
       "0 2022-08-30  01-300822  Madre Laura       32.0        NaN            C   \n",
       "1 2022-10-13  01-131022  Madre Laura       79.8       10.4            C   \n",
       "2 2022-10-18  01-181022  Madre Laura       38.0       10.5            C   \n",
       "3 2022-10-18  05-181022    Doña Dolly      43.0       10.0            C   \n",
       "4 2022-10-29  01-291022  Madre Laura      272.0       10.5            C   \n",
       "\n",
       "   MALLAS_# MALLAS_C/NC VERIFICACION_FISICA  \\\n",
       "0      14.0           C                   C   \n",
       "1      14.0           C                   C   \n",
       "2      14.0           C                   C   \n",
       "3      14.0           C                   C   \n",
       "4      14.0           C                   C   \n",
       "\n",
       "                                      NOTAS_CATACION  PUNTAJE_# PUNTAJE_C/NC  \\\n",
       "0  Chocolate negro, toque frutal, cuerpo medio, a...       84.0           C    \n",
       "1  Chocolate negro, toque frutal, cuerpo medio, a...       84.0           C    \n",
       "2  Chocolate negro, toque frutal, cuerpo medio, a...       84.0            C   \n",
       "3  Chocolate dulce,fresas,miel,cuerpo cremoso,aci...       85.0            C   \n",
       "4  Chocolate negro, toque frutal, cuerpo medio, a...       84.0            C   \n",
       "\n",
       "  LIBERACION_LOTE RESPONSABLE  \n",
       "0             Si           AC  \n",
       "1             Si           AC  \n",
       "2              SI          AC  \n",
       "3              SI          AC  \n",
       "4              SI          AC  "
      ],
      "text/html": [
       "<div>\n",
       "<style scoped>\n",
       "    .dataframe tbody tr th:only-of-type {\n",
       "        vertical-align: middle;\n",
       "    }\n",
       "\n",
       "    .dataframe tbody tr th {\n",
       "        vertical-align: top;\n",
       "    }\n",
       "\n",
       "    .dataframe thead th {\n",
       "        text-align: right;\n",
       "    }\n",
       "</style>\n",
       "<table border=\"1\" class=\"dataframe\">\n",
       "  <thead>\n",
       "    <tr style=\"text-align: right;\">\n",
       "      <th></th>\n",
       "      <th>FECHA</th>\n",
       "      <th>LOTE</th>\n",
       "      <th>MARCA</th>\n",
       "      <th>CANTIDAD</th>\n",
       "      <th>HUMEDAD_%</th>\n",
       "      <th>HUMEDAD_C/NC</th>\n",
       "      <th>MALLAS_#</th>\n",
       "      <th>MALLAS_C/NC</th>\n",
       "      <th>VERIFICACION_FISICA</th>\n",
       "      <th>NOTAS_CATACION</th>\n",
       "      <th>PUNTAJE_#</th>\n",
       "      <th>PUNTAJE_C/NC</th>\n",
       "      <th>LIBERACION_LOTE</th>\n",
       "      <th>RESPONSABLE</th>\n",
       "    </tr>\n",
       "  </thead>\n",
       "  <tbody>\n",
       "    <tr>\n",
       "      <th>0</th>\n",
       "      <td>2022-08-30</td>\n",
       "      <td>01-300822</td>\n",
       "      <td>Madre Laura</td>\n",
       "      <td>32.0</td>\n",
       "      <td>NaN</td>\n",
       "      <td>C</td>\n",
       "      <td>14.0</td>\n",
       "      <td>C</td>\n",
       "      <td>C</td>\n",
       "      <td>Chocolate negro, toque frutal, cuerpo medio, a...</td>\n",
       "      <td>84.0</td>\n",
       "      <td>C</td>\n",
       "      <td>Si</td>\n",
       "      <td>AC</td>\n",
       "    </tr>\n",
       "    <tr>\n",
       "      <th>1</th>\n",
       "      <td>2022-10-13</td>\n",
       "      <td>01-131022</td>\n",
       "      <td>Madre Laura</td>\n",
       "      <td>79.8</td>\n",
       "      <td>10.4</td>\n",
       "      <td>C</td>\n",
       "      <td>14.0</td>\n",
       "      <td>C</td>\n",
       "      <td>C</td>\n",
       "      <td>Chocolate negro, toque frutal, cuerpo medio, a...</td>\n",
       "      <td>84.0</td>\n",
       "      <td>C</td>\n",
       "      <td>Si</td>\n",
       "      <td>AC</td>\n",
       "    </tr>\n",
       "    <tr>\n",
       "      <th>2</th>\n",
       "      <td>2022-10-18</td>\n",
       "      <td>01-181022</td>\n",
       "      <td>Madre Laura</td>\n",
       "      <td>38.0</td>\n",
       "      <td>10.5</td>\n",
       "      <td>C</td>\n",
       "      <td>14.0</td>\n",
       "      <td>C</td>\n",
       "      <td>C</td>\n",
       "      <td>Chocolate negro, toque frutal, cuerpo medio, a...</td>\n",
       "      <td>84.0</td>\n",
       "      <td>C</td>\n",
       "      <td>SI</td>\n",
       "      <td>AC</td>\n",
       "    </tr>\n",
       "    <tr>\n",
       "      <th>3</th>\n",
       "      <td>2022-10-18</td>\n",
       "      <td>05-181022</td>\n",
       "      <td>Doña Dolly</td>\n",
       "      <td>43.0</td>\n",
       "      <td>10.0</td>\n",
       "      <td>C</td>\n",
       "      <td>14.0</td>\n",
       "      <td>C</td>\n",
       "      <td>C</td>\n",
       "      <td>Chocolate dulce,fresas,miel,cuerpo cremoso,aci...</td>\n",
       "      <td>85.0</td>\n",
       "      <td>C</td>\n",
       "      <td>SI</td>\n",
       "      <td>AC</td>\n",
       "    </tr>\n",
       "    <tr>\n",
       "      <th>4</th>\n",
       "      <td>2022-10-29</td>\n",
       "      <td>01-291022</td>\n",
       "      <td>Madre Laura</td>\n",
       "      <td>272.0</td>\n",
       "      <td>10.5</td>\n",
       "      <td>C</td>\n",
       "      <td>14.0</td>\n",
       "      <td>C</td>\n",
       "      <td>C</td>\n",
       "      <td>Chocolate negro, toque frutal, cuerpo medio, a...</td>\n",
       "      <td>84.0</td>\n",
       "      <td>C</td>\n",
       "      <td>SI</td>\n",
       "      <td>AC</td>\n",
       "    </tr>\n",
       "  </tbody>\n",
       "</table>\n",
       "</div>"
      ]
     },
     "metadata": {},
     "output_type": "display_data"
    },
    {
     "name": "stdout",
     "output_type": "stream",
     "text": [
      "['FECHA', 'LOTE', 'MARCA', 'CANTIDAD', 'HUMEDAD_%', 'HUMEDAD_C/NC', 'MALLAS_#', 'MALLAS_C/NC', 'VERIFICACION_FISICA', 'NOTAS_CATACION', 'PUNTAJE_#', 'PUNTAJE_C/NC', 'LIBERACION_LOTE', 'RESPONSABLE']\n",
      "\n",
      "📄 Tostión Otros: 499 filas, 15 columnas\n"
     ]
    },
    {
     "data": {
      "text/plain": [
       "       FECHA       LOTE           ORIGEN  VARIEDAD      PROCESO BENEFICIO  \\\n",
       "0 2022-07-22  01-190722           Jerico  Dos mil   Tradicional   Lavado    \n",
       "1 2022-07-25  01-190722           Jerico  Dos mil   Tradicional   Lavado    \n",
       "2 2022-07-25  01-190722           Jerico  Dos mil   Tradicional   Lavado    \n",
       "3 2022-07-28  01-190722           Jerico  Dos mil   Tradicional   Lavado    \n",
       "4 2022-07-28  09-190722  Ciudad Bolivar      Tabi      Natural   Natural    \n",
       "\n",
       "   PESO_VERDE      MERMA  PESO_TOSTADO     PERFIL TIEMPO_TUESTE  \\\n",
       "0        9.00  15.000000          7.65  Filtrado       08:01:00   \n",
       "1        3.00  16.666667          2.50  Espressso      08:42:00   \n",
       "2        9.00  16.444444          7.52  Filtrado       07:58:00   \n",
       "3       11.70  16.324786          9.79  Filtrado       08:02:00   \n",
       "4        0.45  24.444444          0.34  Filtrado       08:10:00   \n",
       "\n",
       "   OBSERVACIONES RESPONSABLE  TEM_INICIO  TEM_FINAL  \n",
       "0            NaN         LFQ         175      191.0  \n",
       "1            NaN         LFQ         175      195.0  \n",
       "2            NaN         LFQ         175      190.0  \n",
       "3            NaN         LFQ         175      191.0  \n",
       "4            NaN         LFQ         150      186.0  "
      ],
      "text/html": [
       "<div>\n",
       "<style scoped>\n",
       "    .dataframe tbody tr th:only-of-type {\n",
       "        vertical-align: middle;\n",
       "    }\n",
       "\n",
       "    .dataframe tbody tr th {\n",
       "        vertical-align: top;\n",
       "    }\n",
       "\n",
       "    .dataframe thead th {\n",
       "        text-align: right;\n",
       "    }\n",
       "</style>\n",
       "<table border=\"1\" class=\"dataframe\">\n",
       "  <thead>\n",
       "    <tr style=\"text-align: right;\">\n",
       "      <th></th>\n",
       "      <th>FECHA</th>\n",
       "      <th>LOTE</th>\n",
       "      <th>ORIGEN</th>\n",
       "      <th>VARIEDAD</th>\n",
       "      <th>PROCESO</th>\n",
       "      <th>BENEFICIO</th>\n",
       "      <th>PESO_VERDE</th>\n",
       "      <th>MERMA</th>\n",
       "      <th>PESO_TOSTADO</th>\n",
       "      <th>PERFIL</th>\n",
       "      <th>TIEMPO_TUESTE</th>\n",
       "      <th>OBSERVACIONES</th>\n",
       "      <th>RESPONSABLE</th>\n",
       "      <th>TEM_INICIO</th>\n",
       "      <th>TEM_FINAL</th>\n",
       "    </tr>\n",
       "  </thead>\n",
       "  <tbody>\n",
       "    <tr>\n",
       "      <th>0</th>\n",
       "      <td>2022-07-22</td>\n",
       "      <td>01-190722</td>\n",
       "      <td>Jerico</td>\n",
       "      <td>Dos mil</td>\n",
       "      <td>Tradicional</td>\n",
       "      <td>Lavado</td>\n",
       "      <td>9.00</td>\n",
       "      <td>15.000000</td>\n",
       "      <td>7.65</td>\n",
       "      <td>Filtrado</td>\n",
       "      <td>08:01:00</td>\n",
       "      <td>NaN</td>\n",
       "      <td>LFQ</td>\n",
       "      <td>175</td>\n",
       "      <td>191.0</td>\n",
       "    </tr>\n",
       "    <tr>\n",
       "      <th>1</th>\n",
       "      <td>2022-07-25</td>\n",
       "      <td>01-190722</td>\n",
       "      <td>Jerico</td>\n",
       "      <td>Dos mil</td>\n",
       "      <td>Tradicional</td>\n",
       "      <td>Lavado</td>\n",
       "      <td>3.00</td>\n",
       "      <td>16.666667</td>\n",
       "      <td>2.50</td>\n",
       "      <td>Espressso</td>\n",
       "      <td>08:42:00</td>\n",
       "      <td>NaN</td>\n",
       "      <td>LFQ</td>\n",
       "      <td>175</td>\n",
       "      <td>195.0</td>\n",
       "    </tr>\n",
       "    <tr>\n",
       "      <th>2</th>\n",
       "      <td>2022-07-25</td>\n",
       "      <td>01-190722</td>\n",
       "      <td>Jerico</td>\n",
       "      <td>Dos mil</td>\n",
       "      <td>Tradicional</td>\n",
       "      <td>Lavado</td>\n",
       "      <td>9.00</td>\n",
       "      <td>16.444444</td>\n",
       "      <td>7.52</td>\n",
       "      <td>Filtrado</td>\n",
       "      <td>07:58:00</td>\n",
       "      <td>NaN</td>\n",
       "      <td>LFQ</td>\n",
       "      <td>175</td>\n",
       "      <td>190.0</td>\n",
       "    </tr>\n",
       "    <tr>\n",
       "      <th>3</th>\n",
       "      <td>2022-07-28</td>\n",
       "      <td>01-190722</td>\n",
       "      <td>Jerico</td>\n",
       "      <td>Dos mil</td>\n",
       "      <td>Tradicional</td>\n",
       "      <td>Lavado</td>\n",
       "      <td>11.70</td>\n",
       "      <td>16.324786</td>\n",
       "      <td>9.79</td>\n",
       "      <td>Filtrado</td>\n",
       "      <td>08:02:00</td>\n",
       "      <td>NaN</td>\n",
       "      <td>LFQ</td>\n",
       "      <td>175</td>\n",
       "      <td>191.0</td>\n",
       "    </tr>\n",
       "    <tr>\n",
       "      <th>4</th>\n",
       "      <td>2022-07-28</td>\n",
       "      <td>09-190722</td>\n",
       "      <td>Ciudad Bolivar</td>\n",
       "      <td>Tabi</td>\n",
       "      <td>Natural</td>\n",
       "      <td>Natural</td>\n",
       "      <td>0.45</td>\n",
       "      <td>24.444444</td>\n",
       "      <td>0.34</td>\n",
       "      <td>Filtrado</td>\n",
       "      <td>08:10:00</td>\n",
       "      <td>NaN</td>\n",
       "      <td>LFQ</td>\n",
       "      <td>150</td>\n",
       "      <td>186.0</td>\n",
       "    </tr>\n",
       "  </tbody>\n",
       "</table>\n",
       "</div>"
      ]
     },
     "metadata": {},
     "output_type": "display_data"
    },
    {
     "name": "stdout",
     "output_type": "stream",
     "text": [
      "['FECHA', 'LOTE', 'ORIGEN', 'VARIEDAD', 'PROCESO', 'BENEFICIO', 'PESO_VERDE', 'MERMA', 'PESO_TOSTADO', 'PERFIL', 'TIEMPO_TUESTE', 'OBSERVACIONES', 'RESPONSABLE', 'TEM_INICIO', 'TEM_FINAL']\n",
      "\n",
      "📄 Tostión Jericó: 30 filas, 15 columnas\n"
     ]
    },
    {
     "data": {
      "text/plain": [
       "       FECHA       LOTE   ORIGEN   VARIEDAD       PROCESO BENEFICIO  \\\n",
       "0 2022-10-08   1-190722  Jerico   Colombia   Tradicional    Lavado    \n",
       "1 2022-10-08   1-190722  Jerico   Colombia   Tradicional    Lavado    \n",
       "2 2022-09-20  01-300822  Jerico   Colombia   Tradicional    Lavado    \n",
       "3 2022-10-13  01-131022  Jerico   Colombia   Tradicional    Lavado    \n",
       "4 2022-10-18  01-181022  Jerico   Colombia   Tradicional    Lavado    \n",
       "\n",
       "   PESO_VERDE      MERMA  PESO_TOSTADO    PERFIL TIEMPO_TUESTE OBSERVACIONES  \\\n",
       "0         3.0  15.000000          2.55  Filtrado          9:58           NaN   \n",
       "1         3.0  15.000000          2.55  Filtrado          8:32           NaN   \n",
       "2         3.0  15.000000          2.55  Filtrado          9:58           NaN   \n",
       "3        93.0  16.666667         77.50  Espresso         11:40        Epoca    \n",
       "4        42.0  14.285714         36.00  Filtrado         10.15           NaN   \n",
       "\n",
       "  RESPONSABLE  TEM_INICIO  TEM_FINAL  \n",
       "0          AC         180        190  \n",
       "1          AC         180        181  \n",
       "2          AC         180        190  \n",
       "3          AC         180        195  \n",
       "4         LFQ         180        192  "
      ],
      "text/html": [
       "<div>\n",
       "<style scoped>\n",
       "    .dataframe tbody tr th:only-of-type {\n",
       "        vertical-align: middle;\n",
       "    }\n",
       "\n",
       "    .dataframe tbody tr th {\n",
       "        vertical-align: top;\n",
       "    }\n",
       "\n",
       "    .dataframe thead th {\n",
       "        text-align: right;\n",
       "    }\n",
       "</style>\n",
       "<table border=\"1\" class=\"dataframe\">\n",
       "  <thead>\n",
       "    <tr style=\"text-align: right;\">\n",
       "      <th></th>\n",
       "      <th>FECHA</th>\n",
       "      <th>LOTE</th>\n",
       "      <th>ORIGEN</th>\n",
       "      <th>VARIEDAD</th>\n",
       "      <th>PROCESO</th>\n",
       "      <th>BENEFICIO</th>\n",
       "      <th>PESO_VERDE</th>\n",
       "      <th>MERMA</th>\n",
       "      <th>PESO_TOSTADO</th>\n",
       "      <th>PERFIL</th>\n",
       "      <th>TIEMPO_TUESTE</th>\n",
       "      <th>OBSERVACIONES</th>\n",
       "      <th>RESPONSABLE</th>\n",
       "      <th>TEM_INICIO</th>\n",
       "      <th>TEM_FINAL</th>\n",
       "    </tr>\n",
       "  </thead>\n",
       "  <tbody>\n",
       "    <tr>\n",
       "      <th>0</th>\n",
       "      <td>2022-10-08</td>\n",
       "      <td>1-190722</td>\n",
       "      <td>Jerico</td>\n",
       "      <td>Colombia</td>\n",
       "      <td>Tradicional</td>\n",
       "      <td>Lavado</td>\n",
       "      <td>3.0</td>\n",
       "      <td>15.000000</td>\n",
       "      <td>2.55</td>\n",
       "      <td>Filtrado</td>\n",
       "      <td>9:58</td>\n",
       "      <td>NaN</td>\n",
       "      <td>AC</td>\n",
       "      <td>180</td>\n",
       "      <td>190</td>\n",
       "    </tr>\n",
       "    <tr>\n",
       "      <th>1</th>\n",
       "      <td>2022-10-08</td>\n",
       "      <td>1-190722</td>\n",
       "      <td>Jerico</td>\n",
       "      <td>Colombia</td>\n",
       "      <td>Tradicional</td>\n",
       "      <td>Lavado</td>\n",
       "      <td>3.0</td>\n",
       "      <td>15.000000</td>\n",
       "      <td>2.55</td>\n",
       "      <td>Filtrado</td>\n",
       "      <td>8:32</td>\n",
       "      <td>NaN</td>\n",
       "      <td>AC</td>\n",
       "      <td>180</td>\n",
       "      <td>181</td>\n",
       "    </tr>\n",
       "    <tr>\n",
       "      <th>2</th>\n",
       "      <td>2022-09-20</td>\n",
       "      <td>01-300822</td>\n",
       "      <td>Jerico</td>\n",
       "      <td>Colombia</td>\n",
       "      <td>Tradicional</td>\n",
       "      <td>Lavado</td>\n",
       "      <td>3.0</td>\n",
       "      <td>15.000000</td>\n",
       "      <td>2.55</td>\n",
       "      <td>Filtrado</td>\n",
       "      <td>9:58</td>\n",
       "      <td>NaN</td>\n",
       "      <td>AC</td>\n",
       "      <td>180</td>\n",
       "      <td>190</td>\n",
       "    </tr>\n",
       "    <tr>\n",
       "      <th>3</th>\n",
       "      <td>2022-10-13</td>\n",
       "      <td>01-131022</td>\n",
       "      <td>Jerico</td>\n",
       "      <td>Colombia</td>\n",
       "      <td>Tradicional</td>\n",
       "      <td>Lavado</td>\n",
       "      <td>93.0</td>\n",
       "      <td>16.666667</td>\n",
       "      <td>77.50</td>\n",
       "      <td>Espresso</td>\n",
       "      <td>11:40</td>\n",
       "      <td>Epoca</td>\n",
       "      <td>AC</td>\n",
       "      <td>180</td>\n",
       "      <td>195</td>\n",
       "    </tr>\n",
       "    <tr>\n",
       "      <th>4</th>\n",
       "      <td>2022-10-18</td>\n",
       "      <td>01-181022</td>\n",
       "      <td>Jerico</td>\n",
       "      <td>Colombia</td>\n",
       "      <td>Tradicional</td>\n",
       "      <td>Lavado</td>\n",
       "      <td>42.0</td>\n",
       "      <td>14.285714</td>\n",
       "      <td>36.00</td>\n",
       "      <td>Filtrado</td>\n",
       "      <td>10.15</td>\n",
       "      <td>NaN</td>\n",
       "      <td>LFQ</td>\n",
       "      <td>180</td>\n",
       "      <td>192</td>\n",
       "    </tr>\n",
       "  </tbody>\n",
       "</table>\n",
       "</div>"
      ]
     },
     "metadata": {},
     "output_type": "display_data"
    },
    {
     "name": "stdout",
     "output_type": "stream",
     "text": [
      "['FECHA', 'LOTE', 'ORIGEN', 'VARIEDAD', 'PROCESO', 'BENEFICIO', 'PESO_VERDE', 'MERMA', 'PESO_TOSTADO', 'PERFIL', 'TIEMPO_TUESTE', 'OBSERVACIONES', 'RESPONSABLE', 'TEM_INICIO', 'TEM_FINAL']\n",
      "\n",
      "📄 Despacho Medellín: 1583 filas, 9 columnas\n"
     ]
    },
    {
     "data": {
      "text/plain": [
       "   PEDIDO FECHA_TUESTE FECHA_EMPAQUE         MARCA  PRESENTACION  CANTIDAD  \\\n",
       "0   564.0   2022-07-22    2022-07-25  Madre Laura            500         3   \n",
       "1   564.0   2022-07-22    2022-07-25  Madre Laura           1000         1   \n",
       "2   566.0   2022-07-22    2022-07-25  Madre Laura           2500         2   \n",
       "3   567.0   2022-07-22    2022-07-26  Madre Laura           2500         1   \n",
       "4   568.0   2022-07-25    2022-07-26  Madre Laura           2500         3   \n",
       "\n",
       "            CLIENTE RESPONSABLE VERIFICA  \n",
       "0  Natalia Londoño         LFQ       MS   \n",
       "1  Natalia Londoño         LFQ       MS   \n",
       "2      Mateo Duque         LFQ       MS   \n",
       "3              Akio        LFQ       MS   \n",
       "4  Juan Camilo Baez        LFQ       MS   "
      ],
      "text/html": [
       "<div>\n",
       "<style scoped>\n",
       "    .dataframe tbody tr th:only-of-type {\n",
       "        vertical-align: middle;\n",
       "    }\n",
       "\n",
       "    .dataframe tbody tr th {\n",
       "        vertical-align: top;\n",
       "    }\n",
       "\n",
       "    .dataframe thead th {\n",
       "        text-align: right;\n",
       "    }\n",
       "</style>\n",
       "<table border=\"1\" class=\"dataframe\">\n",
       "  <thead>\n",
       "    <tr style=\"text-align: right;\">\n",
       "      <th></th>\n",
       "      <th>PEDIDO</th>\n",
       "      <th>FECHA_TUESTE</th>\n",
       "      <th>FECHA_EMPAQUE</th>\n",
       "      <th>MARCA</th>\n",
       "      <th>PRESENTACION</th>\n",
       "      <th>CANTIDAD</th>\n",
       "      <th>CLIENTE</th>\n",
       "      <th>RESPONSABLE</th>\n",
       "      <th>VERIFICA</th>\n",
       "    </tr>\n",
       "  </thead>\n",
       "  <tbody>\n",
       "    <tr>\n",
       "      <th>0</th>\n",
       "      <td>564.0</td>\n",
       "      <td>2022-07-22</td>\n",
       "      <td>2022-07-25</td>\n",
       "      <td>Madre Laura</td>\n",
       "      <td>500</td>\n",
       "      <td>3</td>\n",
       "      <td>Natalia Londoño</td>\n",
       "      <td>LFQ</td>\n",
       "      <td>MS</td>\n",
       "    </tr>\n",
       "    <tr>\n",
       "      <th>1</th>\n",
       "      <td>564.0</td>\n",
       "      <td>2022-07-22</td>\n",
       "      <td>2022-07-25</td>\n",
       "      <td>Madre Laura</td>\n",
       "      <td>1000</td>\n",
       "      <td>1</td>\n",
       "      <td>Natalia Londoño</td>\n",
       "      <td>LFQ</td>\n",
       "      <td>MS</td>\n",
       "    </tr>\n",
       "    <tr>\n",
       "      <th>2</th>\n",
       "      <td>566.0</td>\n",
       "      <td>2022-07-22</td>\n",
       "      <td>2022-07-25</td>\n",
       "      <td>Madre Laura</td>\n",
       "      <td>2500</td>\n",
       "      <td>2</td>\n",
       "      <td>Mateo Duque</td>\n",
       "      <td>LFQ</td>\n",
       "      <td>MS</td>\n",
       "    </tr>\n",
       "    <tr>\n",
       "      <th>3</th>\n",
       "      <td>567.0</td>\n",
       "      <td>2022-07-22</td>\n",
       "      <td>2022-07-26</td>\n",
       "      <td>Madre Laura</td>\n",
       "      <td>2500</td>\n",
       "      <td>1</td>\n",
       "      <td>Akio</td>\n",
       "      <td>LFQ</td>\n",
       "      <td>MS</td>\n",
       "    </tr>\n",
       "    <tr>\n",
       "      <th>4</th>\n",
       "      <td>568.0</td>\n",
       "      <td>2022-07-25</td>\n",
       "      <td>2022-07-26</td>\n",
       "      <td>Madre Laura</td>\n",
       "      <td>2500</td>\n",
       "      <td>3</td>\n",
       "      <td>Juan Camilo Baez</td>\n",
       "      <td>LFQ</td>\n",
       "      <td>MS</td>\n",
       "    </tr>\n",
       "  </tbody>\n",
       "</table>\n",
       "</div>"
      ]
     },
     "metadata": {},
     "output_type": "display_data"
    },
    {
     "name": "stdout",
     "output_type": "stream",
     "text": [
      "['PEDIDO', 'FECHA_TUESTE', 'FECHA_EMPAQUE', 'MARCA', 'PRESENTACION', 'CANTIDAD', 'CLIENTE', 'RESPONSABLE', 'VERIFICA']\n",
      "\n",
      "📄 Despacho Jericó: 27 filas, 9 columnas\n"
     ]
    },
    {
     "data": {
      "text/plain": [
       "   PEDIDO FECHA_TUESTE FECHA_EMPAQUE         MARCA  PRESENTACION  CANTIDAD  \\\n",
       "0   618.0   2022-10-08    2022-10-08  Madre Laura            500         2   \n",
       "1   619.0   2022-10-08    2022-10-08  Madre Laura            500         1   \n",
       "2   630.0   2022-10-08    2022-10-08  Madre Laura            500         1   \n",
       "3   642.0   2022-10-08    2022-10-08  Madre Laura            500         2   \n",
       "4   659.0   2022-10-08    2022-10-08  Madre Laura            500         1   \n",
       "\n",
       "            CLIENTE RESPONSABLE VERIFICA  \n",
       "0   JAVIER VALENCIA          AC       DC  \n",
       "1    BEATRIZ FRANCO          AC       DC  \n",
       "2  M TERESA CADAVID          AC       DC  \n",
       "3  M TERESA CADAVID          AC       DC  \n",
       "4    BEATRIZ FRANCO          AC       DC  "
      ],
      "text/html": [
       "<div>\n",
       "<style scoped>\n",
       "    .dataframe tbody tr th:only-of-type {\n",
       "        vertical-align: middle;\n",
       "    }\n",
       "\n",
       "    .dataframe tbody tr th {\n",
       "        vertical-align: top;\n",
       "    }\n",
       "\n",
       "    .dataframe thead th {\n",
       "        text-align: right;\n",
       "    }\n",
       "</style>\n",
       "<table border=\"1\" class=\"dataframe\">\n",
       "  <thead>\n",
       "    <tr style=\"text-align: right;\">\n",
       "      <th></th>\n",
       "      <th>PEDIDO</th>\n",
       "      <th>FECHA_TUESTE</th>\n",
       "      <th>FECHA_EMPAQUE</th>\n",
       "      <th>MARCA</th>\n",
       "      <th>PRESENTACION</th>\n",
       "      <th>CANTIDAD</th>\n",
       "      <th>CLIENTE</th>\n",
       "      <th>RESPONSABLE</th>\n",
       "      <th>VERIFICA</th>\n",
       "    </tr>\n",
       "  </thead>\n",
       "  <tbody>\n",
       "    <tr>\n",
       "      <th>0</th>\n",
       "      <td>618.0</td>\n",
       "      <td>2022-10-08</td>\n",
       "      <td>2022-10-08</td>\n",
       "      <td>Madre Laura</td>\n",
       "      <td>500</td>\n",
       "      <td>2</td>\n",
       "      <td>JAVIER VALENCIA</td>\n",
       "      <td>AC</td>\n",
       "      <td>DC</td>\n",
       "    </tr>\n",
       "    <tr>\n",
       "      <th>1</th>\n",
       "      <td>619.0</td>\n",
       "      <td>2022-10-08</td>\n",
       "      <td>2022-10-08</td>\n",
       "      <td>Madre Laura</td>\n",
       "      <td>500</td>\n",
       "      <td>1</td>\n",
       "      <td>BEATRIZ FRANCO</td>\n",
       "      <td>AC</td>\n",
       "      <td>DC</td>\n",
       "    </tr>\n",
       "    <tr>\n",
       "      <th>2</th>\n",
       "      <td>630.0</td>\n",
       "      <td>2022-10-08</td>\n",
       "      <td>2022-10-08</td>\n",
       "      <td>Madre Laura</td>\n",
       "      <td>500</td>\n",
       "      <td>1</td>\n",
       "      <td>M TERESA CADAVID</td>\n",
       "      <td>AC</td>\n",
       "      <td>DC</td>\n",
       "    </tr>\n",
       "    <tr>\n",
       "      <th>3</th>\n",
       "      <td>642.0</td>\n",
       "      <td>2022-10-08</td>\n",
       "      <td>2022-10-08</td>\n",
       "      <td>Madre Laura</td>\n",
       "      <td>500</td>\n",
       "      <td>2</td>\n",
       "      <td>M TERESA CADAVID</td>\n",
       "      <td>AC</td>\n",
       "      <td>DC</td>\n",
       "    </tr>\n",
       "    <tr>\n",
       "      <th>4</th>\n",
       "      <td>659.0</td>\n",
       "      <td>2022-10-08</td>\n",
       "      <td>2022-10-08</td>\n",
       "      <td>Madre Laura</td>\n",
       "      <td>500</td>\n",
       "      <td>1</td>\n",
       "      <td>BEATRIZ FRANCO</td>\n",
       "      <td>AC</td>\n",
       "      <td>DC</td>\n",
       "    </tr>\n",
       "  </tbody>\n",
       "</table>\n",
       "</div>"
      ]
     },
     "metadata": {},
     "output_type": "display_data"
    },
    {
     "name": "stdout",
     "output_type": "stream",
     "text": [
      "['PEDIDO', 'FECHA_TUESTE', 'FECHA_EMPAQUE', 'MARCA', 'PRESENTACION', 'CANTIDAD', 'CLIENTE', 'RESPONSABLE', 'VERIFICA']\n"
     ]
    }
   ],
   "execution_count": 165
  },
  {
   "cell_type": "markdown",
   "id": "6e6217ad",
   "metadata": {},
   "source": [
    "## Exploración Inicial"
   ]
  },
  {
   "metadata": {},
   "cell_type": "markdown",
   "source": [
    "Nuestra variable objetivo (Y) será PUNTAJE_#. Tras una primera inspección de las bases de datos, se identificaron variables que fueron descartadas del conjunto de entrada debido a que contienen información que se genera después del proceso de catación o que está directamente relacionada con la variable objetivo. Entre ellas se encuentran columnas como NOTAS_CATACION, PUNTAJE_C/NC, LIBERACION_LOTE u OBSERVACIONES, las cuales representan evaluaciones sensoriales o decisiones tomadas en función del resultado final. Hay otras variablles como PEDIDO Y LOTE que si bien se utilizan para conectar información entre tablas no deben hacer parte de las variables del modelo predictivo. Otras de las variables que no se utilizarán serán las booleanas C/NC que dependen de otra numérica, pues son redundantes y conocemos la regla de los parámetros, se encuntran en el pie de página de la tabla. Ellas son que el porcentaje de humedad esté por debajo de 11% y que el número de mallas esté por encima de 14*0.95.\n",
    "\n",
    "Revisemos de las variables que no hemos descartado si sus varianzas no son nulas, ya que esto podría indicar que no aportan información relevante para el modelo. No revisamos las varianzas de los tiempos de las fechas porque este tipo de dato tampoco será un parámetro importante en el modelo, mas nos ayudará a ordenar el conjunto de entrenamiento y testeo.\n"
   ],
   "id": "7948049d05ec8cb"
  },
  {
   "metadata": {
    "ExecuteTime": {
     "end_time": "2025-07-25T22:12:56.780622Z",
     "start_time": "2025-07-25T22:12:56.695129Z"
    }
   },
   "cell_type": "code",
   "source": [
    "columnas_trillado_num = [\n",
    "    \"CANTIDAD\",\n",
    "    \"HUMEDAD_%\",\n",
    "    \"MALLAS_#\",\n",
    "    \"PUNTAJE_#\"\n",
    "]\n",
    "columnas_tostion_num = [\n",
    "    \"PESO_VERDE\",\n",
    "    \"MERMA\",\n",
    "    \"PESO_TOSTADO\",\n",
    "    \"TEM_INICIO\",\n",
    "    \"TEM_FINAL\"\n",
    "    #\"TIEMPO_TUESTE\"\n",
    "]\n",
    "columnas_despacho_num = [\n",
    "    \"FECHA_TUESTE\",\n",
    "    \"FECHA_EMPAQUE\",\n",
    "    \"MARCA\",\n",
    "    \"PRESENTACION\",\n",
    "    \"CANTIDAD\",\n",
    "    \"CLIENTE\",\n",
    "    \"RESPONSABLE\",\n",
    "    \"VERIFICA\"\n",
    "]\n",
    "print(\"Varianzas Tostión\")\n",
    "#df_tostion_1[columnas_tostion_num].var().sort_values()\n",
    "#df_tostion_jerico[columnas_tostion_num].var().sort_values()\n",
    "print(\"\\nVarianzas Trillado\")\n",
    "df_trillado_1[columnas_trillado_num].var().sort_values()\n",
    "df_trillado_jerico[columnas_trillado_num].var().sort_values()\n",
    "#print(\"\\nVarianzas Despacho\")\n",
    "#df_despacho_medellin[columnas_despacho_num].var().sort_values()\n",
    "#df_despacho_jerico[columnas_despacho_num].var().sort_values()"
   ],
   "id": "977362449a6b02e1",
   "outputs": [
    {
     "name": "stdout",
     "output_type": "stream",
     "text": [
      "Varianzas Tostión\n",
      "\n",
      "Varianzas Trillado\n"
     ]
    },
    {
     "data": {
      "text/plain": [
       "MALLAS_#        0.000000\n",
       "HUMEDAD_%       0.062540\n",
       "PUNTAJE_#       0.397849\n",
       "CANTIDAD     5256.588909\n",
       "dtype: float64"
      ]
     },
     "execution_count": 166,
     "metadata": {},
     "output_type": "execute_result"
    }
   ],
   "execution_count": 166
  },
  {
   "cell_type": "markdown",
   "id": "827ae602",
   "metadata": {},
   "source": [
    "## Preprocesamiento"
   ]
  },
  {
   "cell_type": "markdown",
   "id": "c0134d56",
   "metadata": {},
   "source": [
    "## Entrenamiento de Modelos"
   ]
  },
  {
   "cell_type": "markdown",
   "id": "48e6ecb9",
   "metadata": {},
   "source": [
    "## Evaluación y Explicabilidad"
   ]
  }
 ],
 "metadata": {
  "kernelspec": {
   "display_name": ".venv",
   "language": "python",
   "name": "python3"
  },
  "language_info": {
   "codemirror_mode": {
    "name": "ipython",
    "version": 3
   },
   "file_extension": ".py",
   "mimetype": "text/x-python",
   "name": "python",
   "nbconvert_exporter": "python",
   "pygments_lexer": "ipython3",
   "version": "3.12.3"
  }
 },
 "nbformat": 4,
 "nbformat_minor": 5
}
