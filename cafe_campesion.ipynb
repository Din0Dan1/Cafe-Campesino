{
 "cells": [
  {
   "cell_type": "markdown",
   "id": "078fdc2f",
   "metadata": {},
   "source": [
    "# Predicción de calidad del café"
   ]
  },
  {
   "cell_type": "markdown",
   "id": "9ddbdc6e",
   "metadata": {},
   "source": [
    "## Requerimientos"
   ]
  },
  {
   "cell_type": "markdown",
   "id": "6b8cd836",
   "metadata": {},
   "source": [
    "Se instalan los paquetes necesarios para el desarrollo de la actividad"
   ]
  },
  {
   "cell_type": "code",
   "execution_count": 6,
   "id": "3d54a650",
   "metadata": {},
   "outputs": [
    {
     "name": "stdout",
     "output_type": "stream",
     "text": [
      "¡Herramientas listas!\n"
     ]
    }
   ],
   "source": [
    "import pandas as pd\n",
    "import numpy as np\n",
    "import matplotlib.pyplot as plt\n",
    "import seaborn as sns\n",
    "import shap\n",
    "from sklearn.linear_model import LinearRegression\n",
    "from sklearn.ensemble import RandomForestRegressor\n",
    "from sklearn.model_selection import train_test_split\n",
    "from openpyxl import load_workbook\n",
    "\n",
    "print(\"¡Herramientas listas!\")\n"
   ]
  },
  {
   "cell_type": "markdown",
   "id": "256b920a",
   "metadata": {},
   "source": [
    "## Carga de datos"
   ]
  },
  {
   "cell_type": "code",
   "execution_count": null,
   "id": "0e3b661d",
   "metadata": {},
   "outputs": [],
   "source": []
  },
  {
   "cell_type": "markdown",
   "id": "6e6217ad",
   "metadata": {},
   "source": [
    "## Exploración Inicial"
   ]
  },
  {
   "cell_type": "markdown",
   "id": "827ae602",
   "metadata": {},
   "source": [
    "## Preprocesamiento"
   ]
  },
  {
   "cell_type": "markdown",
   "id": "c0134d56",
   "metadata": {},
   "source": [
    "## Entrenamiento de Modelos"
   ]
  },
  {
   "cell_type": "markdown",
   "id": "48e6ecb9",
   "metadata": {},
   "source": [
    "## Evaluación y Explicabilidad"
   ]
  }
 ],
 "metadata": {
  "kernelspec": {
   "display_name": ".venv",
   "language": "python",
   "name": "python3"
  },
  "language_info": {
   "codemirror_mode": {
    "name": "ipython",
    "version": 3
   },
   "file_extension": ".py",
   "mimetype": "text/x-python",
   "name": "python",
   "nbconvert_exporter": "python",
   "pygments_lexer": "ipython3",
   "version": "3.12.3"
  }
 },
 "nbformat": 4,
 "nbformat_minor": 5
}
